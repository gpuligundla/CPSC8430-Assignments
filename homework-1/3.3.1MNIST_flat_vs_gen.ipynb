{
 "cells": [
  {
   "cell_type": "code",
   "execution_count": 1,
   "metadata": {
    "id": "nmo93HsaQC08"
   },
   "outputs": [],
   "source": [
    "import torch\n",
    "import torch.nn as nn\n",
    "import torch.optim as optim\n",
    "from torchvision import datasets, transforms\n",
    "from torch.utils.data import DataLoader\n",
    "import torch.nn.functional as F\n",
    "import numpy as np\n",
    "import matplotlib.pyplot as plt\n",
    "from tqdm import tqdm\n",
    "import random"
   ]
  },
  {
   "cell_type": "code",
   "execution_count": 2,
   "metadata": {
    "colab": {
     "base_uri": "https://localhost:8080/"
    },
    "id": "umyAB0EcXenr",
    "outputId": "b480978a-d571-4312-9c7c-3def94f93b99"
   },
   "outputs": [
    {
     "name": "stdout",
     "output_type": "stream",
     "text": [
      "cuda\n"
     ]
    }
   ],
   "source": [
    "torch.manual_seed(42)\n",
    "device = torch.device(\"cuda\") if torch.cuda.is_available() else torch.device(\"cpu\")\n",
    "print(device)"
   ]
  },
  {
   "cell_type": "code",
   "execution_count": 3,
   "metadata": {
    "id": "jToI5G8gR12s"
   },
   "outputs": [],
   "source": [
    "# dataset prep\n",
    "def dataset_prep(batch_size):\n",
    "    transform=transforms.Compose([\n",
    "            transforms.ToTensor(),\n",
    "            transforms.Normalize((0.1307,), (0.3081,)),\n",
    "            ])\n",
    "    train_data = datasets.MNIST('mnist_data', train=True, download=True, transform=transform)\n",
    "    test_data = datasets.MNIST('mnist_data', train=False, download=True, transform=transform)\n",
    "\n",
    "    training_DataLoader = DataLoader(train_data, batch_size=batch_size, shuffle=True)\n",
    "    testing_DataLoader= DataLoader(test_data, batch_size=batch_size, shuffle=True)\n",
    "    return training_DataLoader, testing_DataLoader"
   ]
  },
  {
   "cell_type": "code",
   "execution_count": 4,
   "metadata": {
    "id": "6iSRycrqvvLO"
   },
   "outputs": [],
   "source": [
    "class Model(nn.Module):\n",
    "    def __init__(self):\n",
    "        super(Model, self).__init__()\n",
    "        self.fc1 = nn.Linear(784, 32)\n",
    "        self.fc2 = nn.Linear(32, 16)\n",
    "        self.fc3 = nn.Linear(16, 10)\n",
    "\n",
    "    def forward(self, x):\n",
    "        x = x.view(x.size()[0], -1)\n",
    "        x = F.relu(self.fc1(x))\n",
    "        x = F.relu(self.fc2(x))\n",
    "        x = self.fc3(x)\n",
    "        return x"
   ]
  },
  {
   "cell_type": "code",
   "execution_count": 5,
   "metadata": {
    "id": "jp8mv4VDr4N9"
   },
   "outputs": [],
   "source": [
    "\n",
    "def train(model, optimizer, train_loader):\n",
    "    model.train()\n",
    "    loss_func = torch.nn.CrossEntropyLoss()\n",
    "    correct = 0\n",
    "    total_samples = 0\n",
    "    batch_loss=[]\n",
    "\n",
    "    for i, batch in tqdm(enumerate(train_loader)):\n",
    "        images, labels = batch[0].to(device), batch[1].to(device)\n",
    "        # Forward pass\n",
    "        output = model(images)\n",
    "        loss = loss_func(output, labels)\n",
    "\n",
    "        # Backward pass and optimization\n",
    "        optimizer.zero_grad()\n",
    "        loss.backward()\n",
    "        optimizer.step()\n",
    "\n",
    "        # Update metrics\n",
    "        predicted = torch.max(output.data, 1)[1]\n",
    "        correct += (predicted == labels).sum().item()\n",
    "        total_samples += labels.size(0)\n",
    "\n",
    "        batch_loss.append(loss.item())\n",
    "\n",
    "    # Calculate average loss\n",
    "    train_loss = sum(batch_loss) / len(train_loader.dataset)\n",
    "\n",
    "    acc = 100. * correct / total_samples\n",
    "    return train_loss, acc"
   ]
  },
  {
   "cell_type": "code",
   "execution_count": 6,
   "metadata": {
    "id": "QPRHfE4feJxq"
   },
   "outputs": [],
   "source": [
    "def test(model, test_loader):\n",
    "    model.eval()\n",
    "    test_losses = []\n",
    "    loss_func = torch.nn.CrossEntropyLoss()\n",
    "    correct = 0\n",
    "    total_samples = 0\n",
    "\n",
    "    with torch.no_grad():\n",
    "        for i, batch in enumerate(test_loader):\n",
    "            images, labels = batch[0].to(device), batch[1].to(device)\n",
    "\n",
    "            output = model(images)\n",
    "            loss = loss_func(output, labels)\n",
    "            test_losses.append(loss.item())\n",
    "\n",
    "            _, pred = torch.max(output, 1)\n",
    "            correct += (pred == labels).sum().item()\n",
    "            total_samples += labels.size(0)\n",
    "\n",
    "\n",
    "    # Calculate average loss\n",
    "    test_loss = sum(test_losses) / len(test_loader.dataset)\n",
    "\n",
    "    # Calculate accuracy\n",
    "    accuracy = 100. * correct / total_samples\n",
    "\n",
    "\n",
    "    return test_loss, accuracy"
   ]
  },
  {
   "cell_type": "code",
   "execution_count": 7,
   "metadata": {
    "colab": {
     "base_uri": "https://localhost:8080/"
    },
    "id": "_x24LokIsA5s",
    "outputId": "287da55e-bcec-4dbc-b73b-17430c9187da"
   },
   "outputs": [
    {
     "name": "stdout",
     "output_type": "stream",
     "text": [
      "For Model with dataset batchsize - 64 & Learning Rate  - 0.001\n"
     ]
    },
    {
     "name": "stderr",
     "output_type": "stream",
     "text": [
      "938it [00:14, 64.38it/s]\n"
     ]
    },
    {
     "name": "stdout",
     "output_type": "stream",
     "text": [
      "Epoch - 0 Train Loss - 0.006300 Test Loss - 0.003172 Train Accuracy - 88.291667 Test Accuracy - 93.900000\n"
     ]
    },
    {
     "name": "stderr",
     "output_type": "stream",
     "text": [
      "938it [00:14, 64.81it/s]\n"
     ]
    },
    {
     "name": "stdout",
     "output_type": "stream",
     "text": [
      "Epoch - 1 Train Loss - 0.002983 Test Loss - 0.002651 Train Accuracy - 94.471667 Test Accuracy - 94.820000\n"
     ]
    },
    {
     "name": "stderr",
     "output_type": "stream",
     "text": [
      "938it [00:14, 66.58it/s]\n"
     ]
    },
    {
     "name": "stdout",
     "output_type": "stream",
     "text": [
      "Epoch - 2 Train Loss - 0.002378 Test Loss - 0.002263 Train Accuracy - 95.531667 Test Accuracy - 95.690000\n"
     ]
    },
    {
     "name": "stderr",
     "output_type": "stream",
     "text": [
      "938it [00:14, 66.12it/s]\n"
     ]
    },
    {
     "name": "stdout",
     "output_type": "stream",
     "text": [
      "Epoch - 3 Train Loss - 0.002069 Test Loss - 0.002162 Train Accuracy - 96.150000 Test Accuracy - 95.830000\n"
     ]
    },
    {
     "name": "stderr",
     "output_type": "stream",
     "text": [
      "938it [00:14, 66.15it/s]\n"
     ]
    },
    {
     "name": "stdout",
     "output_type": "stream",
     "text": [
      "Epoch - 4 Train Loss - 0.001822 Test Loss - 0.002035 Train Accuracy - 96.485000 Test Accuracy - 95.850000\n"
     ]
    },
    {
     "name": "stderr",
     "output_type": "stream",
     "text": [
      "938it [00:14, 64.96it/s]\n"
     ]
    },
    {
     "name": "stdout",
     "output_type": "stream",
     "text": [
      "Epoch - 5 Train Loss - 0.001665 Test Loss - 0.001843 Train Accuracy - 96.730000 Test Accuracy - 96.480000\n"
     ]
    },
    {
     "name": "stderr",
     "output_type": "stream",
     "text": [
      "938it [00:14, 65.02it/s]\n"
     ]
    },
    {
     "name": "stdout",
     "output_type": "stream",
     "text": [
      "Epoch - 6 Train Loss - 0.001511 Test Loss - 0.001757 Train Accuracy - 97.041667 Test Accuracy - 96.600000\n"
     ]
    },
    {
     "name": "stderr",
     "output_type": "stream",
     "text": [
      "938it [00:14, 65.51it/s]\n"
     ]
    },
    {
     "name": "stdout",
     "output_type": "stream",
     "text": [
      "Epoch - 7 Train Loss - 0.001392 Test Loss - 0.001861 Train Accuracy - 97.273333 Test Accuracy - 96.490000\n"
     ]
    },
    {
     "name": "stderr",
     "output_type": "stream",
     "text": [
      "938it [00:16, 56.20it/s]\n"
     ]
    },
    {
     "name": "stdout",
     "output_type": "stream",
     "text": [
      "Epoch - 8 Train Loss - 0.001300 Test Loss - 0.001830 Train Accuracy - 97.381667 Test Accuracy - 96.430000\n"
     ]
    },
    {
     "name": "stderr",
     "output_type": "stream",
     "text": [
      "938it [00:16, 57.21it/s]\n"
     ]
    },
    {
     "name": "stdout",
     "output_type": "stream",
     "text": [
      "Epoch - 9 Train Loss - 0.001201 Test Loss - 0.001748 Train Accuracy - 97.658333 Test Accuracy - 96.690000\n"
     ]
    },
    {
     "name": "stderr",
     "output_type": "stream",
     "text": [
      "938it [00:17, 55.10it/s]\n"
     ]
    },
    {
     "name": "stdout",
     "output_type": "stream",
     "text": [
      "Epoch - 10 Train Loss - 0.001141 Test Loss - 0.001688 Train Accuracy - 97.713333 Test Accuracy - 96.700000\n"
     ]
    },
    {
     "name": "stderr",
     "output_type": "stream",
     "text": [
      "938it [00:14, 63.21it/s]\n"
     ]
    },
    {
     "name": "stdout",
     "output_type": "stream",
     "text": [
      "Epoch - 11 Train Loss - 0.001064 Test Loss - 0.001754 Train Accuracy - 97.836667 Test Accuracy - 96.770000\n"
     ]
    },
    {
     "name": "stderr",
     "output_type": "stream",
     "text": [
      "938it [00:16, 56.29it/s]\n"
     ]
    },
    {
     "name": "stdout",
     "output_type": "stream",
     "text": [
      "Epoch - 12 Train Loss - 0.000991 Test Loss - 0.001671 Train Accuracy - 98.031667 Test Accuracy - 96.890000\n"
     ]
    },
    {
     "name": "stderr",
     "output_type": "stream",
     "text": [
      "938it [00:14, 64.28it/s]\n"
     ]
    },
    {
     "name": "stdout",
     "output_type": "stream",
     "text": [
      "Epoch - 13 Train Loss - 0.000958 Test Loss - 0.001911 Train Accuracy - 98.101667 Test Accuracy - 96.540000\n"
     ]
    },
    {
     "name": "stderr",
     "output_type": "stream",
     "text": [
      "938it [00:16, 57.74it/s]\n"
     ]
    },
    {
     "name": "stdout",
     "output_type": "stream",
     "text": [
      "Epoch - 14 Train Loss - 0.000859 Test Loss - 0.001772 Train Accuracy - 98.235000 Test Accuracy - 96.830000\n"
     ]
    },
    {
     "name": "stderr",
     "output_type": "stream",
     "text": [
      "938it [00:14, 62.75it/s]\n"
     ]
    },
    {
     "name": "stdout",
     "output_type": "stream",
     "text": [
      "Epoch - 15 Train Loss - 0.000860 Test Loss - 0.001707 Train Accuracy - 98.213333 Test Accuracy - 96.770000\n"
     ]
    },
    {
     "name": "stderr",
     "output_type": "stream",
     "text": [
      "938it [00:13, 67.14it/s]\n"
     ]
    },
    {
     "name": "stdout",
     "output_type": "stream",
     "text": [
      "Epoch - 16 Train Loss - 0.000793 Test Loss - 0.001809 Train Accuracy - 98.430000 Test Accuracy - 96.810000\n"
     ]
    },
    {
     "name": "stderr",
     "output_type": "stream",
     "text": [
      "938it [00:14, 65.28it/s]\n"
     ]
    },
    {
     "name": "stdout",
     "output_type": "stream",
     "text": [
      "Epoch - 17 Train Loss - 0.000779 Test Loss - 0.001706 Train Accuracy - 98.430000 Test Accuracy - 97.090000\n"
     ]
    },
    {
     "name": "stderr",
     "output_type": "stream",
     "text": [
      "938it [00:14, 65.40it/s]\n"
     ]
    },
    {
     "name": "stdout",
     "output_type": "stream",
     "text": [
      "Epoch - 18 Train Loss - 0.000725 Test Loss - 0.001897 Train Accuracy - 98.448333 Test Accuracy - 96.850000\n"
     ]
    },
    {
     "name": "stderr",
     "output_type": "stream",
     "text": [
      "938it [00:14, 66.15it/s]\n"
     ]
    },
    {
     "name": "stdout",
     "output_type": "stream",
     "text": [
      "Epoch - 19 Train Loss - 0.000698 Test Loss - 0.001868 Train Accuracy - 98.560000 Test Accuracy - 96.750000\n"
     ]
    },
    {
     "name": "stderr",
     "output_type": "stream",
     "text": [
      "938it [00:14, 66.85it/s]\n"
     ]
    },
    {
     "name": "stdout",
     "output_type": "stream",
     "text": [
      "Epoch - 20 Train Loss - 0.000644 Test Loss - 0.001941 Train Accuracy - 98.685000 Test Accuracy - 96.930000\n"
     ]
    },
    {
     "name": "stderr",
     "output_type": "stream",
     "text": [
      "938it [00:14, 64.81it/s]\n"
     ]
    },
    {
     "name": "stdout",
     "output_type": "stream",
     "text": [
      "Epoch - 21 Train Loss - 0.000663 Test Loss - 0.001855 Train Accuracy - 98.600000 Test Accuracy - 96.900000\n"
     ]
    },
    {
     "name": "stderr",
     "output_type": "stream",
     "text": [
      "938it [00:14, 65.71it/s]\n"
     ]
    },
    {
     "name": "stdout",
     "output_type": "stream",
     "text": [
      "Epoch - 22 Train Loss - 0.000597 Test Loss - 0.001875 Train Accuracy - 98.746667 Test Accuracy - 96.950000\n"
     ]
    },
    {
     "name": "stderr",
     "output_type": "stream",
     "text": [
      "938it [00:14, 66.79it/s]\n"
     ]
    },
    {
     "name": "stdout",
     "output_type": "stream",
     "text": [
      "Epoch - 23 Train Loss - 0.000575 Test Loss - 0.002002 Train Accuracy - 98.798333 Test Accuracy - 96.770000\n",
      "For Model with dataset batchsize - 64 & Learning Rate  - 0.01\n"
     ]
    },
    {
     "name": "stderr",
     "output_type": "stream",
     "text": [
      "938it [00:14, 65.66it/s]\n"
     ]
    },
    {
     "name": "stdout",
     "output_type": "stream",
     "text": [
      "Epoch - 0 Train Loss - 0.005329 Test Loss - 0.004149 Train Accuracy - 89.785000 Test Accuracy - 91.940000\n"
     ]
    },
    {
     "name": "stderr",
     "output_type": "stream",
     "text": [
      "938it [00:15, 58.94it/s]\n"
     ]
    },
    {
     "name": "stdout",
     "output_type": "stream",
     "text": [
      "Epoch - 1 Train Loss - 0.003536 Test Loss - 0.003219 Train Accuracy - 93.430000 Test Accuracy - 94.010000\n"
     ]
    },
    {
     "name": "stderr",
     "output_type": "stream",
     "text": [
      "938it [00:16, 58.29it/s]\n"
     ]
    },
    {
     "name": "stdout",
     "output_type": "stream",
     "text": [
      "Epoch - 2 Train Loss - 0.003121 Test Loss - 0.003553 Train Accuracy - 94.265000 Test Accuracy - 93.690000\n"
     ]
    },
    {
     "name": "stderr",
     "output_type": "stream",
     "text": [
      "938it [00:15, 61.61it/s]\n"
     ]
    },
    {
     "name": "stdout",
     "output_type": "stream",
     "text": [
      "Epoch - 3 Train Loss - 0.002883 Test Loss - 0.003187 Train Accuracy - 94.763333 Test Accuracy - 94.080000\n"
     ]
    },
    {
     "name": "stderr",
     "output_type": "stream",
     "text": [
      "938it [00:14, 66.69it/s]\n"
     ]
    },
    {
     "name": "stdout",
     "output_type": "stream",
     "text": [
      "Epoch - 4 Train Loss - 0.002743 Test Loss - 0.003206 Train Accuracy - 95.080000 Test Accuracy - 94.100000\n"
     ]
    },
    {
     "name": "stderr",
     "output_type": "stream",
     "text": [
      "938it [00:14, 66.17it/s]\n"
     ]
    },
    {
     "name": "stdout",
     "output_type": "stream",
     "text": [
      "Epoch - 5 Train Loss - 0.002624 Test Loss - 0.003123 Train Accuracy - 95.246667 Test Accuracy - 94.420000\n"
     ]
    },
    {
     "name": "stderr",
     "output_type": "stream",
     "text": [
      "938it [00:14, 66.12it/s]\n"
     ]
    },
    {
     "name": "stdout",
     "output_type": "stream",
     "text": [
      "Epoch - 6 Train Loss - 0.002564 Test Loss - 0.003318 Train Accuracy - 95.341667 Test Accuracy - 94.130000\n"
     ]
    },
    {
     "name": "stderr",
     "output_type": "stream",
     "text": [
      "938it [00:15, 62.09it/s]\n"
     ]
    },
    {
     "name": "stdout",
     "output_type": "stream",
     "text": [
      "Epoch - 7 Train Loss - 0.002589 Test Loss - 0.002835 Train Accuracy - 95.348333 Test Accuracy - 95.100000\n"
     ]
    },
    {
     "name": "stderr",
     "output_type": "stream",
     "text": [
      "938it [00:15, 58.99it/s]\n"
     ]
    },
    {
     "name": "stdout",
     "output_type": "stream",
     "text": [
      "Epoch - 8 Train Loss - 0.002439 Test Loss - 0.002927 Train Accuracy - 95.630000 Test Accuracy - 95.220000\n"
     ]
    },
    {
     "name": "stderr",
     "output_type": "stream",
     "text": [
      "938it [00:15, 60.55it/s]\n"
     ]
    },
    {
     "name": "stdout",
     "output_type": "stream",
     "text": [
      "Epoch - 9 Train Loss - 0.002452 Test Loss - 0.002888 Train Accuracy - 95.548333 Test Accuracy - 95.270000\n"
     ]
    },
    {
     "name": "stderr",
     "output_type": "stream",
     "text": [
      "938it [00:14, 64.39it/s]\n"
     ]
    },
    {
     "name": "stdout",
     "output_type": "stream",
     "text": [
      "Epoch - 10 Train Loss - 0.002372 Test Loss - 0.002961 Train Accuracy - 95.781667 Test Accuracy - 95.230000\n"
     ]
    },
    {
     "name": "stderr",
     "output_type": "stream",
     "text": [
      "938it [00:14, 65.54it/s]\n"
     ]
    },
    {
     "name": "stdout",
     "output_type": "stream",
     "text": [
      "Epoch - 11 Train Loss - 0.002332 Test Loss - 0.003014 Train Accuracy - 95.923333 Test Accuracy - 94.920000\n"
     ]
    },
    {
     "name": "stderr",
     "output_type": "stream",
     "text": [
      "938it [00:14, 66.88it/s]\n"
     ]
    },
    {
     "name": "stdout",
     "output_type": "stream",
     "text": [
      "Epoch - 12 Train Loss - 0.002335 Test Loss - 0.003325 Train Accuracy - 95.840000 Test Accuracy - 94.330000\n"
     ]
    },
    {
     "name": "stderr",
     "output_type": "stream",
     "text": [
      "938it [00:14, 65.17it/s]\n"
     ]
    },
    {
     "name": "stdout",
     "output_type": "stream",
     "text": [
      "Epoch - 13 Train Loss - 0.002332 Test Loss - 0.003335 Train Accuracy - 95.903333 Test Accuracy - 94.470000\n"
     ]
    },
    {
     "name": "stderr",
     "output_type": "stream",
     "text": [
      "938it [00:17, 54.67it/s]\n"
     ]
    },
    {
     "name": "stdout",
     "output_type": "stream",
     "text": [
      "Epoch - 14 Train Loss - 0.002236 Test Loss - 0.002978 Train Accuracy - 96.026667 Test Accuracy - 95.250000\n"
     ]
    },
    {
     "name": "stderr",
     "output_type": "stream",
     "text": [
      "938it [00:13, 67.34it/s]\n"
     ]
    },
    {
     "name": "stdout",
     "output_type": "stream",
     "text": [
      "Epoch - 15 Train Loss - 0.002283 Test Loss - 0.003046 Train Accuracy - 96.015000 Test Accuracy - 95.240000\n"
     ]
    },
    {
     "name": "stderr",
     "output_type": "stream",
     "text": [
      "938it [00:17, 55.14it/s]\n"
     ]
    },
    {
     "name": "stdout",
     "output_type": "stream",
     "text": [
      "Epoch - 16 Train Loss - 0.002176 Test Loss - 0.003156 Train Accuracy - 96.121667 Test Accuracy - 95.060000\n"
     ]
    },
    {
     "name": "stderr",
     "output_type": "stream",
     "text": [
      "938it [00:17, 55.06it/s]\n"
     ]
    },
    {
     "name": "stdout",
     "output_type": "stream",
     "text": [
      "Epoch - 17 Train Loss - 0.002168 Test Loss - 0.003569 Train Accuracy - 96.141667 Test Accuracy - 94.840000\n"
     ]
    },
    {
     "name": "stderr",
     "output_type": "stream",
     "text": [
      "938it [00:15, 59.85it/s]\n"
     ]
    },
    {
     "name": "stdout",
     "output_type": "stream",
     "text": [
      "Epoch - 18 Train Loss - 0.002143 Test Loss - 0.003457 Train Accuracy - 96.165000 Test Accuracy - 95.200000\n"
     ]
    },
    {
     "name": "stderr",
     "output_type": "stream",
     "text": [
      "938it [00:14, 64.42it/s]\n"
     ]
    },
    {
     "name": "stdout",
     "output_type": "stream",
     "text": [
      "Epoch - 19 Train Loss - 0.002109 Test Loss - 0.003029 Train Accuracy - 96.291667 Test Accuracy - 95.440000\n"
     ]
    },
    {
     "name": "stderr",
     "output_type": "stream",
     "text": [
      "938it [00:13, 67.16it/s]\n"
     ]
    },
    {
     "name": "stdout",
     "output_type": "stream",
     "text": [
      "Epoch - 20 Train Loss - 0.002177 Test Loss - 0.002898 Train Accuracy - 96.216667 Test Accuracy - 95.510000\n"
     ]
    },
    {
     "name": "stderr",
     "output_type": "stream",
     "text": [
      "938it [00:14, 66.49it/s]\n"
     ]
    },
    {
     "name": "stdout",
     "output_type": "stream",
     "text": [
      "Epoch - 21 Train Loss - 0.002143 Test Loss - 0.003507 Train Accuracy - 96.203333 Test Accuracy - 94.830000\n"
     ]
    },
    {
     "name": "stderr",
     "output_type": "stream",
     "text": [
      "938it [00:14, 64.23it/s]\n"
     ]
    },
    {
     "name": "stdout",
     "output_type": "stream",
     "text": [
      "Epoch - 22 Train Loss - 0.002023 Test Loss - 0.003519 Train Accuracy - 96.480000 Test Accuracy - 95.200000\n"
     ]
    },
    {
     "name": "stderr",
     "output_type": "stream",
     "text": [
      "938it [00:14, 66.69it/s]\n"
     ]
    },
    {
     "name": "stdout",
     "output_type": "stream",
     "text": [
      "Epoch - 23 Train Loss - 0.002128 Test Loss - 0.003052 Train Accuracy - 96.305000 Test Accuracy - 95.180000\n",
      "For Model with dataset batchsize - 1024 & Learning Rate  - 0.001\n"
     ]
    },
    {
     "name": "stderr",
     "output_type": "stream",
     "text": [
      "59it [00:12,  4.90it/s]\n"
     ]
    },
    {
     "name": "stdout",
     "output_type": "stream",
     "text": [
      "Epoch - 0 Train Loss - 0.001381 Test Loss - 0.000654 Train Accuracy - 52.203333 Test Accuracy - 84.120000\n"
     ]
    },
    {
     "name": "stderr",
     "output_type": "stream",
     "text": [
      "59it [00:12,  4.87it/s]\n"
     ]
    },
    {
     "name": "stdout",
     "output_type": "stream",
     "text": [
      "Epoch - 1 Train Loss - 0.000464 Test Loss - 0.000352 Train Accuracy - 87.118333 Test Accuracy - 89.840000\n"
     ]
    },
    {
     "name": "stderr",
     "output_type": "stream",
     "text": [
      "59it [00:11,  4.94it/s]\n"
     ]
    },
    {
     "name": "stdout",
     "output_type": "stream",
     "text": [
      "Epoch - 2 Train Loss - 0.000314 Test Loss - 0.000281 Train Accuracy - 90.761667 Test Accuracy - 91.710000\n"
     ]
    },
    {
     "name": "stderr",
     "output_type": "stream",
     "text": [
      "59it [00:12,  4.90it/s]\n"
     ]
    },
    {
     "name": "stdout",
     "output_type": "stream",
     "text": [
      "Epoch - 3 Train Loss - 0.000260 Test Loss - 0.000240 Train Accuracy - 92.356667 Test Accuracy - 92.930000\n"
     ]
    },
    {
     "name": "stderr",
     "output_type": "stream",
     "text": [
      "59it [00:12,  4.89it/s]\n"
     ]
    },
    {
     "name": "stdout",
     "output_type": "stream",
     "text": [
      "Epoch - 4 Train Loss - 0.000225 Test Loss - 0.000210 Train Accuracy - 93.411667 Test Accuracy - 93.790000\n"
     ]
    },
    {
     "name": "stderr",
     "output_type": "stream",
     "text": [
      "59it [00:12,  4.87it/s]\n"
     ]
    },
    {
     "name": "stdout",
     "output_type": "stream",
     "text": [
      "Epoch - 5 Train Loss - 0.000201 Test Loss - 0.000197 Train Accuracy - 94.065000 Test Accuracy - 94.130000\n"
     ]
    },
    {
     "name": "stderr",
     "output_type": "stream",
     "text": [
      "59it [00:13,  4.51it/s]\n"
     ]
    },
    {
     "name": "stdout",
     "output_type": "stream",
     "text": [
      "Epoch - 6 Train Loss - 0.000184 Test Loss - 0.000179 Train Accuracy - 94.581667 Test Accuracy - 94.660000\n"
     ]
    },
    {
     "name": "stderr",
     "output_type": "stream",
     "text": [
      "59it [00:14,  4.07it/s]\n"
     ]
    },
    {
     "name": "stdout",
     "output_type": "stream",
     "text": [
      "Epoch - 7 Train Loss - 0.000170 Test Loss - 0.000171 Train Accuracy - 95.010000 Test Accuracy - 95.090000\n"
     ]
    },
    {
     "name": "stderr",
     "output_type": "stream",
     "text": [
      "59it [00:14,  4.11it/s]\n"
     ]
    },
    {
     "name": "stdout",
     "output_type": "stream",
     "text": [
      "Epoch - 8 Train Loss - 0.000161 Test Loss - 0.000162 Train Accuracy - 95.261667 Test Accuracy - 95.380000\n"
     ]
    },
    {
     "name": "stderr",
     "output_type": "stream",
     "text": [
      "59it [00:14,  4.06it/s]\n"
     ]
    },
    {
     "name": "stdout",
     "output_type": "stream",
     "text": [
      "Epoch - 9 Train Loss - 0.000151 Test Loss - 0.000155 Train Accuracy - 95.508333 Test Accuracy - 95.450000\n"
     ]
    },
    {
     "name": "stderr",
     "output_type": "stream",
     "text": [
      "59it [00:14,  4.09it/s]\n"
     ]
    },
    {
     "name": "stdout",
     "output_type": "stream",
     "text": [
      "Epoch - 10 Train Loss - 0.000144 Test Loss - 0.000147 Train Accuracy - 95.715000 Test Accuracy - 95.780000\n"
     ]
    },
    {
     "name": "stderr",
     "output_type": "stream",
     "text": [
      "59it [00:14,  4.07it/s]\n"
     ]
    },
    {
     "name": "stdout",
     "output_type": "stream",
     "text": [
      "Epoch - 11 Train Loss - 0.000137 Test Loss - 0.000143 Train Accuracy - 95.903333 Test Accuracy - 95.810000\n"
     ]
    },
    {
     "name": "stderr",
     "output_type": "stream",
     "text": [
      "59it [00:14,  4.09it/s]\n"
     ]
    },
    {
     "name": "stdout",
     "output_type": "stream",
     "text": [
      "Epoch - 12 Train Loss - 0.000130 Test Loss - 0.000142 Train Accuracy - 96.223333 Test Accuracy - 95.760000\n"
     ]
    },
    {
     "name": "stderr",
     "output_type": "stream",
     "text": [
      "59it [00:12,  4.75it/s]\n"
     ]
    },
    {
     "name": "stdout",
     "output_type": "stream",
     "text": [
      "Epoch - 13 Train Loss - 0.000126 Test Loss - 0.000136 Train Accuracy - 96.223333 Test Accuracy - 95.880000\n"
     ]
    },
    {
     "name": "stderr",
     "output_type": "stream",
     "text": [
      "59it [00:11,  4.93it/s]\n"
     ]
    },
    {
     "name": "stdout",
     "output_type": "stream",
     "text": [
      "Epoch - 14 Train Loss - 0.000120 Test Loss - 0.000132 Train Accuracy - 96.436667 Test Accuracy - 96.110000\n"
     ]
    },
    {
     "name": "stderr",
     "output_type": "stream",
     "text": [
      "59it [00:11,  4.96it/s]\n"
     ]
    },
    {
     "name": "stdout",
     "output_type": "stream",
     "text": [
      "Epoch - 15 Train Loss - 0.000116 Test Loss - 0.000130 Train Accuracy - 96.571667 Test Accuracy - 96.150000\n"
     ]
    },
    {
     "name": "stderr",
     "output_type": "stream",
     "text": [
      "59it [00:12,  4.91it/s]\n"
     ]
    },
    {
     "name": "stdout",
     "output_type": "stream",
     "text": [
      "Epoch - 16 Train Loss - 0.000111 Test Loss - 0.000127 Train Accuracy - 96.700000 Test Accuracy - 96.170000\n"
     ]
    },
    {
     "name": "stderr",
     "output_type": "stream",
     "text": [
      "59it [00:12,  4.86it/s]\n"
     ]
    },
    {
     "name": "stdout",
     "output_type": "stream",
     "text": [
      "Epoch - 17 Train Loss - 0.000107 Test Loss - 0.000126 Train Accuracy - 96.770000 Test Accuracy - 96.210000\n"
     ]
    },
    {
     "name": "stderr",
     "output_type": "stream",
     "text": [
      "59it [00:12,  4.87it/s]\n"
     ]
    },
    {
     "name": "stdout",
     "output_type": "stream",
     "text": [
      "Epoch - 18 Train Loss - 0.000104 Test Loss - 0.000123 Train Accuracy - 96.893333 Test Accuracy - 96.330000\n"
     ]
    },
    {
     "name": "stderr",
     "output_type": "stream",
     "text": [
      "59it [00:12,  4.87it/s]\n"
     ]
    },
    {
     "name": "stdout",
     "output_type": "stream",
     "text": [
      "Epoch - 19 Train Loss - 0.000100 Test Loss - 0.000123 Train Accuracy - 97.080000 Test Accuracy - 96.350000\n"
     ]
    },
    {
     "name": "stderr",
     "output_type": "stream",
     "text": [
      "59it [00:12,  4.87it/s]\n"
     ]
    },
    {
     "name": "stdout",
     "output_type": "stream",
     "text": [
      "Epoch - 20 Train Loss - 0.000097 Test Loss - 0.000119 Train Accuracy - 97.111667 Test Accuracy - 96.610000\n"
     ]
    },
    {
     "name": "stderr",
     "output_type": "stream",
     "text": [
      "59it [00:12,  4.87it/s]\n"
     ]
    },
    {
     "name": "stdout",
     "output_type": "stream",
     "text": [
      "Epoch - 21 Train Loss - 0.000094 Test Loss - 0.000118 Train Accuracy - 97.225000 Test Accuracy - 96.580000\n"
     ]
    },
    {
     "name": "stderr",
     "output_type": "stream",
     "text": [
      "59it [00:12,  4.70it/s]\n"
     ]
    },
    {
     "name": "stdout",
     "output_type": "stream",
     "text": [
      "Epoch - 22 Train Loss - 0.000092 Test Loss - 0.000118 Train Accuracy - 97.261667 Test Accuracy - 96.560000\n"
     ]
    },
    {
     "name": "stderr",
     "output_type": "stream",
     "text": [
      "59it [00:12,  4.88it/s]\n"
     ]
    },
    {
     "name": "stdout",
     "output_type": "stream",
     "text": [
      "Epoch - 23 Train Loss - 0.000089 Test Loss - 0.000117 Train Accuracy - 97.330000 Test Accuracy - 96.640000\n",
      "For Model with dataset batchsize - 1024 & Learning Rate  - 0.01\n"
     ]
    },
    {
     "name": "stderr",
     "output_type": "stream",
     "text": [
      "59it [00:12,  4.64it/s]\n"
     ]
    },
    {
     "name": "stdout",
     "output_type": "stream",
     "text": [
      "Epoch - 0 Train Loss - 0.000622 Test Loss - 0.000259 Train Accuracy - 79.946667 Test Accuracy - 92.280000\n"
     ]
    },
    {
     "name": "stderr",
     "output_type": "stream",
     "text": [
      "59it [00:12,  4.91it/s]\n"
     ]
    },
    {
     "name": "stdout",
     "output_type": "stream",
     "text": [
      "Epoch - 1 Train Loss - 0.000228 Test Loss - 0.000207 Train Accuracy - 93.016667 Test Accuracy - 93.600000\n"
     ]
    },
    {
     "name": "stderr",
     "output_type": "stream",
     "text": [
      "59it [00:14,  4.19it/s]\n"
     ]
    },
    {
     "name": "stdout",
     "output_type": "stream",
     "text": [
      "Epoch - 2 Train Loss - 0.000174 Test Loss - 0.000167 Train Accuracy - 94.640000 Test Accuracy - 94.750000\n"
     ]
    },
    {
     "name": "stderr",
     "output_type": "stream",
     "text": [
      "59it [00:12,  4.90it/s]\n"
     ]
    },
    {
     "name": "stdout",
     "output_type": "stream",
     "text": [
      "Epoch - 3 Train Loss - 0.000147 Test Loss - 0.000149 Train Accuracy - 95.473333 Test Accuracy - 95.500000\n"
     ]
    },
    {
     "name": "stderr",
     "output_type": "stream",
     "text": [
      "59it [00:12,  4.85it/s]\n"
     ]
    },
    {
     "name": "stdout",
     "output_type": "stream",
     "text": [
      "Epoch - 4 Train Loss - 0.000137 Test Loss - 0.000150 Train Accuracy - 95.775000 Test Accuracy - 95.610000\n"
     ]
    },
    {
     "name": "stderr",
     "output_type": "stream",
     "text": [
      "59it [00:12,  4.90it/s]\n"
     ]
    },
    {
     "name": "stdout",
     "output_type": "stream",
     "text": [
      "Epoch - 5 Train Loss - 0.000121 Test Loss - 0.000145 Train Accuracy - 96.228333 Test Accuracy - 95.700000\n"
     ]
    },
    {
     "name": "stderr",
     "output_type": "stream",
     "text": [
      "59it [00:12,  4.91it/s]\n"
     ]
    },
    {
     "name": "stdout",
     "output_type": "stream",
     "text": [
      "Epoch - 6 Train Loss - 0.000111 Test Loss - 0.000139 Train Accuracy - 96.561667 Test Accuracy - 95.860000\n"
     ]
    },
    {
     "name": "stderr",
     "output_type": "stream",
     "text": [
      "59it [00:12,  4.90it/s]\n"
     ]
    },
    {
     "name": "stdout",
     "output_type": "stream",
     "text": [
      "Epoch - 7 Train Loss - 0.000100 Test Loss - 0.000140 Train Accuracy - 96.896667 Test Accuracy - 95.860000\n"
     ]
    },
    {
     "name": "stderr",
     "output_type": "stream",
     "text": [
      "59it [00:12,  4.91it/s]\n"
     ]
    },
    {
     "name": "stdout",
     "output_type": "stream",
     "text": [
      "Epoch - 8 Train Loss - 0.000097 Test Loss - 0.000136 Train Accuracy - 96.933333 Test Accuracy - 96.100000\n"
     ]
    },
    {
     "name": "stderr",
     "output_type": "stream",
     "text": [
      "59it [00:12,  4.89it/s]\n"
     ]
    },
    {
     "name": "stdout",
     "output_type": "stream",
     "text": [
      "Epoch - 9 Train Loss - 0.000091 Test Loss - 0.000131 Train Accuracy - 97.118333 Test Accuracy - 96.160000\n"
     ]
    },
    {
     "name": "stderr",
     "output_type": "stream",
     "text": [
      "59it [00:12,  4.90it/s]\n"
     ]
    },
    {
     "name": "stdout",
     "output_type": "stream",
     "text": [
      "Epoch - 10 Train Loss - 0.000090 Test Loss - 0.000133 Train Accuracy - 97.133333 Test Accuracy - 96.220000\n"
     ]
    },
    {
     "name": "stderr",
     "output_type": "stream",
     "text": [
      "59it [00:12,  4.91it/s]\n"
     ]
    },
    {
     "name": "stdout",
     "output_type": "stream",
     "text": [
      "Epoch - 11 Train Loss - 0.000086 Test Loss - 0.000144 Train Accuracy - 97.198333 Test Accuracy - 95.860000\n"
     ]
    },
    {
     "name": "stderr",
     "output_type": "stream",
     "text": [
      "59it [00:12,  4.90it/s]\n"
     ]
    },
    {
     "name": "stdout",
     "output_type": "stream",
     "text": [
      "Epoch - 12 Train Loss - 0.000083 Test Loss - 0.000129 Train Accuracy - 97.390000 Test Accuracy - 96.330000\n"
     ]
    },
    {
     "name": "stderr",
     "output_type": "stream",
     "text": [
      "59it [00:12,  4.86it/s]\n"
     ]
    },
    {
     "name": "stdout",
     "output_type": "stream",
     "text": [
      "Epoch - 13 Train Loss - 0.000078 Test Loss - 0.000124 Train Accuracy - 97.560000 Test Accuracy - 96.520000\n"
     ]
    },
    {
     "name": "stderr",
     "output_type": "stream",
     "text": [
      "59it [00:12,  4.88it/s]\n"
     ]
    },
    {
     "name": "stdout",
     "output_type": "stream",
     "text": [
      "Epoch - 14 Train Loss - 0.000072 Test Loss - 0.000148 Train Accuracy - 97.636667 Test Accuracy - 96.080000\n"
     ]
    },
    {
     "name": "stderr",
     "output_type": "stream",
     "text": [
      "59it [00:12,  4.91it/s]\n"
     ]
    },
    {
     "name": "stdout",
     "output_type": "stream",
     "text": [
      "Epoch - 15 Train Loss - 0.000075 Test Loss - 0.000134 Train Accuracy - 97.630000 Test Accuracy - 96.470000\n"
     ]
    },
    {
     "name": "stderr",
     "output_type": "stream",
     "text": [
      "59it [00:12,  4.90it/s]\n"
     ]
    },
    {
     "name": "stdout",
     "output_type": "stream",
     "text": [
      "Epoch - 16 Train Loss - 0.000075 Test Loss - 0.000151 Train Accuracy - 97.560000 Test Accuracy - 96.120000\n"
     ]
    },
    {
     "name": "stderr",
     "output_type": "stream",
     "text": [
      "59it [00:12,  4.90it/s]\n"
     ]
    },
    {
     "name": "stdout",
     "output_type": "stream",
     "text": [
      "Epoch - 17 Train Loss - 0.000074 Test Loss - 0.000137 Train Accuracy - 97.580000 Test Accuracy - 96.450000\n"
     ]
    },
    {
     "name": "stderr",
     "output_type": "stream",
     "text": [
      "59it [00:12,  4.87it/s]\n"
     ]
    },
    {
     "name": "stdout",
     "output_type": "stream",
     "text": [
      "Epoch - 18 Train Loss - 0.000068 Test Loss - 0.000137 Train Accuracy - 97.775000 Test Accuracy - 96.440000\n"
     ]
    },
    {
     "name": "stderr",
     "output_type": "stream",
     "text": [
      "59it [00:12,  4.88it/s]\n"
     ]
    },
    {
     "name": "stdout",
     "output_type": "stream",
     "text": [
      "Epoch - 19 Train Loss - 0.000065 Test Loss - 0.000146 Train Accuracy - 97.870000 Test Accuracy - 96.350000\n"
     ]
    },
    {
     "name": "stderr",
     "output_type": "stream",
     "text": [
      "59it [00:12,  4.91it/s]\n"
     ]
    },
    {
     "name": "stdout",
     "output_type": "stream",
     "text": [
      "Epoch - 20 Train Loss - 0.000068 Test Loss - 0.000135 Train Accuracy - 97.800000 Test Accuracy - 96.610000\n"
     ]
    },
    {
     "name": "stderr",
     "output_type": "stream",
     "text": [
      "59it [00:12,  4.89it/s]\n"
     ]
    },
    {
     "name": "stdout",
     "output_type": "stream",
     "text": [
      "Epoch - 21 Train Loss - 0.000063 Test Loss - 0.000142 Train Accuracy - 97.910000 Test Accuracy - 96.480000\n"
     ]
    },
    {
     "name": "stderr",
     "output_type": "stream",
     "text": [
      "59it [00:12,  4.60it/s]\n"
     ]
    },
    {
     "name": "stdout",
     "output_type": "stream",
     "text": [
      "Epoch - 22 Train Loss - 0.000064 Test Loss - 0.000156 Train Accuracy - 97.918333 Test Accuracy - 96.340000\n"
     ]
    },
    {
     "name": "stderr",
     "output_type": "stream",
     "text": [
      "59it [00:12,  4.88it/s]\n"
     ]
    },
    {
     "name": "stdout",
     "output_type": "stream",
     "text": [
      "Epoch - 23 Train Loss - 0.000057 Test Loss - 0.000155 Train Accuracy - 98.095000 Test Accuracy - 96.230000\n"
     ]
    }
   ],
   "source": [
    "epochs = 24\n",
    "train_loss_dict = {}\n",
    "train_acc_dict = {}\n",
    "test_loss_dict = {}\n",
    "test_acc_dict = {}\n",
    "model_state = {}\n",
    "for batch_size in [64, 1024]:\n",
    "    for lr in [1e-3, 1e-2]:\n",
    "        train_loss_arr = []\n",
    "        train_acc_arr = []\n",
    "        test_loss_arr = []\n",
    "        test_acc_arr = []\n",
    "        training_DataLoader, testing_DataLoader = dataset_prep(batch_size)\n",
    "        print(f\"For Model with dataset batchsize - {batch_size} & Learning Rate  - {lr}\")\n",
    "        model = Model().to(device)\n",
    "        optimizer1 = optim.Adam(model.parameters(), lr=lr)\n",
    "        for epoch in range(epochs):\n",
    "            train_loss, train_acc = train(model, optimizer1, training_DataLoader)\n",
    "            test_loss, test_acc = test(model, testing_DataLoader)\n",
    "            print(f'Epoch - {epoch} Train Loss - {train_loss:.6f} Test Loss - {test_loss:.6f} Train Accuracy - {train_acc:.6f} Test Accuracy - {test_acc:.6f}')\n",
    "            train_loss_arr.append(train_loss)\n",
    "            train_acc_arr.append(train_acc)\n",
    "            test_loss_arr.append(test_loss)\n",
    "            test_acc_arr.append(test_acc)\n",
    "        key_str = f\"model_{batch_size}_lr_{lr}\"\n",
    "        train_loss_dict[key_str] = train_loss_arr\n",
    "        train_acc_dict[key_str] = train_acc_arr\n",
    "        test_loss_dict[key_str] = test_loss_arr\n",
    "        test_acc_dict[key_str] = test_acc_arr\n",
    "        model_state[key_str] = model\n",
    "\n",
    "\n"
   ]
  },
  {
   "cell_type": "code",
   "execution_count": 43,
   "metadata": {
    "id": "PmDFrRcgYupf"
   },
   "outputs": [],
   "source": [
    "def analysis(model, dataset_loader):\n",
    "    model.eval()\n",
    "    losses = []\n",
    "    loss_func = torch.nn.CrossEntropyLoss()\n",
    "    correct = 0\n",
    "    total_samples = 0\n",
    "\n",
    "    with torch.no_grad():\n",
    "        for i, batch in enumerate(dataset_loader):\n",
    "            images, labels = batch[0].to(device), batch[1].to(device)\n",
    "\n",
    "            output = model(images)\n",
    "            loss = loss_func(output, labels)\n",
    "            losses.append(loss.item())\n",
    "\n",
    "            _, pred = torch.max(output, 1)\n",
    "            correct += (pred == labels).sum().item()\n",
    "            total_samples += labels.size(0)\n",
    "\n",
    "\n",
    "    # Calculate average loss\n",
    "    test_loss = sum(losses) / len(dataset_loader.dataset)\n",
    "\n",
    "    # Calculate accuracy\n",
    "    accuracy = 100. * correct / total_samples\n",
    "\n",
    "\n",
    "    return test_loss, accuracy"
   ]
  },
  {
   "cell_type": "code",
   "execution_count": 44,
   "metadata": {
    "id": "v0aDcXY3SlBq"
   },
   "outputs": [],
   "source": [
    "#interpolation\n",
    "def interpolation(m1, m2, training_DataLoader, testing_DataLoader):\n",
    "    a_train_loss_arr = []\n",
    "    a_train_acc_arr = []\n",
    "    a_test_loss_arr = []\n",
    "    a_test_acc_arr = []\n",
    "    alphas = np.linspace(-2, 2, 10)\n",
    "    for i, alpha in enumerate(alphas):\n",
    "        print(f\"theta - {i}\")\n",
    "        interpolated_params = {}\n",
    "        for param_name, param_m1 in m1.named_parameters():\n",
    "            param_m2 = m2.state_dict()[param_name]\n",
    "            interpolated_params[param_name] = (1 - alpha) * param_m1 + alpha * param_m2\n",
    "\n",
    "        interpolated_model = Model().to(device)\n",
    "        interpolated_model.load_state_dict(interpolated_params)\n",
    "\n",
    "        train_loss, train_acc = analysis(interpolated_model, training_DataLoader)\n",
    "        test_loss, test_acc = analysis(interpolated_model, testing_DataLoader)\n",
    "\n",
    "        a_train_loss_arr.append(train_loss)\n",
    "        a_train_acc_arr.append(train_acc)\n",
    "        a_test_loss_arr.append(test_loss)\n",
    "        a_test_acc_arr.append(test_acc)\n",
    "\n",
    "    return a_train_loss_arr, a_train_acc_arr, a_test_loss_arr, a_test_acc_arr"
   ]
  },
  {
   "cell_type": "code",
   "execution_count": 45,
   "metadata": {
    "colab": {
     "base_uri": "https://localhost:8080/"
    },
    "id": "_RtGfuIya36M",
    "outputId": "f52e3f0f-93ef-4538-8242-eee0ffc8c4f3"
   },
   "outputs": [
    {
     "data": {
      "text/plain": [
       "{'model_64_lr_0.001': Model(\n",
       "   (fc1): Linear(in_features=784, out_features=32, bias=True)\n",
       "   (fc2): Linear(in_features=32, out_features=16, bias=True)\n",
       "   (fc3): Linear(in_features=16, out_features=10, bias=True)\n",
       " ),\n",
       " 'model_64_lr_0.01': Model(\n",
       "   (fc1): Linear(in_features=784, out_features=32, bias=True)\n",
       "   (fc2): Linear(in_features=32, out_features=16, bias=True)\n",
       "   (fc3): Linear(in_features=16, out_features=10, bias=True)\n",
       " ),\n",
       " 'model_1024_lr_0.001': Model(\n",
       "   (fc1): Linear(in_features=784, out_features=32, bias=True)\n",
       "   (fc2): Linear(in_features=32, out_features=16, bias=True)\n",
       "   (fc3): Linear(in_features=16, out_features=10, bias=True)\n",
       " ),\n",
       " 'model_1024_lr_0.01': Model(\n",
       "   (fc1): Linear(in_features=784, out_features=32, bias=True)\n",
       "   (fc2): Linear(in_features=32, out_features=16, bias=True)\n",
       "   (fc3): Linear(in_features=16, out_features=10, bias=True)\n",
       " )}"
      ]
     },
     "execution_count": 45,
     "metadata": {},
     "output_type": "execute_result"
    }
   ],
   "source": [
    "model_state"
   ]
  },
  {
   "cell_type": "code",
   "execution_count": 46,
   "metadata": {
    "colab": {
     "base_uri": "https://localhost:8080/"
    },
    "id": "Bzt4v5BPamhk",
    "outputId": "504b334f-3014-4bcb-b485-75434b898cba"
   },
   "outputs": [
    {
     "name": "stdout",
     "output_type": "stream",
     "text": [
      "theta - 0\n",
      "theta - 1\n",
      "theta - 2\n",
      "theta - 3\n",
      "theta - 4\n",
      "theta - 5\n",
      "theta - 6\n",
      "theta - 7\n",
      "theta - 8\n",
      "theta - 9\n"
     ]
    }
   ],
   "source": [
    "#lr size const\n",
    "training_DataLoader, testing_DataLoader = dataset_prep(64)\n",
    "training_DataLoader1, testing_DataLoader1 = dataset_prep(1024)\n",
    "a_lr_train_loss_arr, a_lr_train_acc_arr, a_lr_test_loss_arr, a_lr_test_acc_arr = interpolation(model_state[\"model_64_lr_0.001\"], model_state[\"model_1024_lr_0.001\"], training_DataLoader1, testing_DataLoader1)"
   ]
  },
  {
   "cell_type": "code",
   "execution_count": 50,
   "metadata": {
    "colab": {
     "base_uri": "https://localhost:8080/",
     "height": 477
    },
    "id": "jlMUXKCgbTV2",
    "outputId": "81b4480b-1a5b-47a5-b33f-ee66d6e28bd6"
   },
   "outputs": [
    {
     "data": {
      "image/png": "[encoded data removed]",
      "text/plain": [
       "<Figure size 1200x500 with 2 Axes>"
      ]
     },
     "metadata": {},
     "output_type": "display_data"
    }
   ],
   "source": [
    "fig, ax1 = plt.subplots(figsize=(12, 5))\n",
    "\n",
    "# Plot train and test loss on ax1\n",
    "ax1.plot(np.linspace(-2, 2, 10), a_lr_train_loss_arr, color=\"green\", label='Train Loss (Batch Size 64)')\n",
    "ax1.plot(np.linspace(-2, 2, 10), a_lr_test_loss_arr, color=\"blue\", label='Test Loss (Batch Size 1024)')\n",
    "ax1.set_xlabel('Alpha')\n",
    "ax1.set_ylabel('Loss', color='black')\n",
    "ax1.legend(loc='upper left')\n",
    "\n",
    "# Create a second y-axis sharing the same x-axis\n",
    "ax2 = ax1.twinx()\n",
    "\n",
    "# Plot train and test accuracy on ax2\n",
    "ax2.plot(np.linspace(-2, 2, 10), a_lr_train_acc_arr,  color=\"red\", label='Train Accuracy (Batch Size 64)')\n",
    "ax2.plot(np.linspace(-2, 2, 10), a_lr_test_acc_arr,  color=\"orange\", label='Test Accuracy (Batch Size 1024)')\n",
    "ax2.set_ylabel('Accuracy', color='black')\n",
    "ax2.set_title('Train and Test Loss & Accuracy Comparison (lr constant 0.001; Batch Size 64 Vs 1024)')\n",
    "ax2.legend(loc='upper right')\n",
    "plt.tight_layout()\n",
    "plt.show()\n"
   ]
  },
  {
   "cell_type": "code",
   "execution_count": 48,
   "metadata": {},
   "outputs": [
    {
     "name": "stdout",
     "output_type": "stream",
     "text": [
      "theta - 0\n",
      "theta - 1\n",
      "theta - 2\n",
      "theta - 3\n",
      "theta - 4\n",
      "theta - 5\n",
      "theta - 6\n",
      "theta - 7\n",
      "theta - 8\n",
      "theta - 9\n"
     ]
    }
   ],
   "source": [
    "#lr size const\n",
    "training_DataLoader, testing_DataLoader = dataset_prep(64)\n",
    "training_DataLoader1, testing_DataLoader1 = dataset_prep(1024)\n",
    "a_lr1_train_loss_arr, a_lr1_train_acc_arr, a_lr1_test_loss_arr, a_lr1_test_acc_arr = interpolation(model_state[\"model_64_lr_0.01\"], model_state[\"model_1024_lr_0.01\"], training_DataLoader1, testing_DataLoader1)"
   ]
  },
  {
   "cell_type": "code",
   "execution_count": 51,
   "metadata": {},
   "outputs": [
    {
     "data": {
      "image/png": "[encoded data removed]",
      "text/plain": [
       "<Figure size 1200x500 with 2 Axes>"
      ]
     },
     "metadata": {},
     "output_type": "display_data"
    }
   ],
   "source": [
    "fig, ax1 = plt.subplots(figsize=(12, 5))\n",
    "\n",
    "# Plot train and test loss on ax1\n",
    "ax1.plot(np.linspace(-2, 2, 10), a_lr1_train_loss_arr, color=\"green\", label='Train Loss (Batch Size 64)')\n",
    "ax1.plot(np.linspace(-2, 2, 10), a_lr1_test_loss_arr, color=\"blue\", label='Test Loss (Batch Size 1024)')\n",
    "ax1.set_xlabel('Alpha')\n",
    "ax1.set_ylabel('Loss', color='black')\n",
    "ax1.legend(loc='upper left')\n",
    "\n",
    "# Create a second y-axis sharing the same x-axis\n",
    "ax2 = ax1.twinx()\n",
    "\n",
    "# Plot train and test accuracy on ax2\n",
    "ax2.plot(np.linspace(-2, 2, 10), a_lr1_train_acc_arr,  color=\"red\", label='Train Accuracy (Batch Size 64)')\n",
    "ax2.plot(np.linspace(-2, 2, 10), a_lr1_test_acc_arr,  color=\"orange\", label='Test Accuracy (Batch Size 1024)')\n",
    "ax2.set_ylabel('Accuracy', color='black')\n",
    "ax2.set_title('Train and Test Loss & Accuracy Comparison (lr 0.01 constant; Batch Size 64 Vs 1024)')\n",
    "ax2.legend(loc='upper right')\n",
    "plt.tight_layout()\n",
    "plt.show()\n"
   ]
  },
  {
   "cell_type": "code",
   "execution_count": null,
   "metadata": {},
   "outputs": [],
   "source": []
  }
 ],
 "metadata": {
  "accelerator": "GPU",
  "colab": {
   "gpuType": "T4",
   "provenance": []
  },
  "kernelspec": {
   "display_name": "Python 3 (ipykernel)",
   "language": "python",
   "name": "python3"
  },
  "language_info": {
   "codemirror_mode": {
    "name": "ipython",
    "version": 3
   },
   "file_extension": ".py",
   "mimetype": "text/x-python",
   "name": "python",
   "nbconvert_exporter": "python",
   "pygments_lexer": "ipython3",
   "version": "3.9.13"
  }
 },
 "nbformat": 4,
 "nbformat_minor": 4
}
