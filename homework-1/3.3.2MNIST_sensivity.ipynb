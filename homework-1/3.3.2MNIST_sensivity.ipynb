{
 "cells": [
  {
   "cell_type": "code",
   "execution_count": 61,
   "metadata": {
    "id": "nmo93HsaQC08"
   },
   "outputs": [],
   "source": [
    "import torch\n",
    "import torch.nn as nn\n",
    "import torch.optim as optim\n",
    "from torchvision import datasets, transforms\n",
    "from torch.utils.data import DataLoader\n",
    "import torch.nn.functional as F\n",
    "import numpy as np\n",
    "import matplotlib.pyplot as plt\n",
    "from tqdm import tqdm\n",
    "import random"
   ]
  },
  {
   "cell_type": "code",
   "execution_count": 62,
   "metadata": {
    "colab": {
     "base_uri": "https://localhost:8080/"
    },
    "id": "umyAB0EcXenr",
    "outputId": "dec50778-e957-4e1f-906a-1ab9b04847cd"
   },
   "outputs": [
    {
     "name": "stdout",
     "output_type": "stream",
     "text": [
      "cuda\n"
     ]
    }
   ],
   "source": [
    "torch.manual_seed(42)\n",
    "device = torch.device(\"cuda\") if torch.cuda.is_available() else torch.device(\"cpu\")\n",
    "print(device)"
   ]
  },
  {
   "cell_type": "code",
   "execution_count": 63,
   "metadata": {
    "id": "jToI5G8gR12s"
   },
   "outputs": [],
   "source": [
    "# dataset prep\n",
    "def dataset_prep(batch_size):\n",
    "    transform=transforms.Compose([\n",
    "            transforms.ToTensor(),\n",
    "            transforms.Normalize((0.1307,), (0.3081,)),\n",
    "            ])\n",
    "    train_data = datasets.MNIST('mnist_data', train=True, download=True, transform=transform)\n",
    "    test_data = datasets.MNIST('mnist_data', train=False, download=True, transform=transform)\n",
    "\n",
    "    training_DataLoader = DataLoader(train_data, batch_size=batch_size, shuffle=True)\n",
    "    testing_DataLoader= DataLoader(test_data, batch_size=batch_size, shuffle=True)\n",
    "    return training_DataLoader, testing_DataLoader"
   ]
  },
  {
   "cell_type": "code",
   "execution_count": 64,
   "metadata": {
    "id": "6iSRycrqvvLO"
   },
   "outputs": [],
   "source": [
    "class CNNModel(nn.Module):\n",
    "    def __init__(self):\n",
    "        super(CNNModel, self).__init__()\n",
    "        self.conv1 = nn.Conv2d(1, 32, kernel_size=3, stride=1, padding=1)\n",
    "        self.pool1 = nn.MaxPool2d(kernel_size=2, stride=2)\n",
    "\n",
    "        self.dense1 = nn.Linear(32*14*14, 128)\n",
    "        self.dense2 = nn.Linear(128, 10)\n",
    "\n",
    "    def forward(self, x):\n",
    "        x = self.conv1(x)\n",
    "        x = F.relu(x)\n",
    "        x = self.pool1(x)\n",
    "        x = x.view(x.shape[0], -1)\n",
    "        x = self.dense1(x)\n",
    "        x = self.dense2(x)\n",
    "        return F.log_softmax(x, dim=1)"
   ]
  },
  {
   "cell_type": "code",
   "execution_count": 65,
   "metadata": {
    "id": "jp8mv4VDr4N9"
   },
   "outputs": [],
   "source": [
    "\n",
    "def train(model, optimizer, train_loader):\n",
    "    model.train()\n",
    "    loss_func = torch.nn.CrossEntropyLoss()\n",
    "    correct = 0\n",
    "    total_samples = 0\n",
    "    batch_loss=[]\n",
    "    count = 0\n",
    "    for i, batch in tqdm(enumerate(train_loader)):\n",
    "        count += 1\n",
    "        images, labels = batch[0].to(device), batch[1].to(device)\n",
    "        # Forward pass\n",
    "        output = model(images)\n",
    "        loss = loss_func(output, labels)\n",
    "\n",
    "        # Backward pass and optimization\n",
    "        optimizer.zero_grad()\n",
    "        loss.backward()\n",
    "        optimizer.step()\n",
    "\n",
    "        # Update metrics\n",
    "        _, predicted = torch.max(output.data, 1)\n",
    "        correct += (predicted == labels).sum().item()\n",
    "        total_samples += labels.size(0)\n",
    "\n",
    "        batch_loss.append(loss.item())\n",
    "\n",
    "    # Calculate average loss\n",
    "    train_loss = sum(batch_loss) / count\n",
    "    print(count)\n",
    "    acc = 100. * correct / total_samples\n",
    "    return train_loss, acc"
   ]
  },
  {
   "cell_type": "code",
   "execution_count": 66,
   "metadata": {
    "id": "QPRHfE4feJxq"
   },
   "outputs": [],
   "source": [
    "def test(model, test_loader):\n",
    "    model.eval()\n",
    "    test_losses = []\n",
    "    loss_func = torch.nn.CrossEntropyLoss()\n",
    "    correct = 0\n",
    "    total_samples = 0\n",
    "    count = 0\n",
    "    with torch.no_grad():\n",
    "        for i, batch in enumerate(test_loader):\n",
    "            count +=1\n",
    "            images, labels = batch[0].to(device), batch[1].to(device)\n",
    "\n",
    "            output = model(images)\n",
    "            loss = loss_func(output, labels)\n",
    "            test_losses.append(loss.item())\n",
    "\n",
    "            _, pred = torch.max(output, 1)\n",
    "            correct += (pred == labels).sum().item()\n",
    "            total_samples += labels.size(0)\n",
    "\n",
    "\n",
    "    # Calculate average loss\n",
    "    test_loss = sum(test_losses) / count\n",
    "\n",
    "    # Calculate accuracy\n",
    "    accuracy = 100. * correct / total_samples\n",
    "\n",
    "\n",
    "    return test_loss, accuracy"
   ]
  },
  {
   "cell_type": "code",
   "execution_count": 67,
   "metadata": {
    "id": "fbh_PvdYGgRv"
   },
   "outputs": [],
   "source": [
    "def sensitivity(model):\n",
    "    total_norm = 0\n",
    "    counter = 0\n",
    "    \n",
    "    for p in model.parameters():\n",
    "        if p.grad is not None:\n",
    "            grad_norm = torch.linalg.norm(p.grad.to(device)).cpu().item()\n",
    "            total_norm += grad_norm\n",
    "            counter += 1\n",
    "    \n",
    "    if counter == 0:\n",
    "        return 0\n",
    "    \n",
    "    return total_norm / counter\n"
   ]
  },
  {
   "cell_type": "code",
   "execution_count": 68,
   "metadata": {
    "colab": {
     "base_uri": "https://localhost:8080/"
    },
    "id": "_x24LokIsA5s",
    "outputId": "cd811de4-23e4-4f0b-cfce-a1d993873a88"
   },
   "outputs": [
    {
     "name": "stdout",
     "output_type": "stream",
     "text": [
      "For Model with dataset batchsize - 64\n"
     ]
    },
    {
     "name": "stderr",
     "output_type": "stream",
     "text": [
      "938it [00:13, 68.24it/s]\n"
     ]
    },
    {
     "name": "stdout",
     "output_type": "stream",
     "text": [
      "938\n",
      "Epoch - 0 Train Loss - 0.412805 Test Loss - 0.257876 Train Accuracy - 88.976667 Test Accuracy - 92.680000\n"
     ]
    },
    {
     "name": "stderr",
     "output_type": "stream",
     "text": [
      "938it [00:13, 67.94it/s]\n"
     ]
    },
    {
     "name": "stdout",
     "output_type": "stream",
     "text": [
      "938\n",
      "Epoch - 1 Train Loss - 0.228671 Test Loss - 0.180634 Train Accuracy - 93.346667 Test Accuracy - 94.800000\n"
     ]
    },
    {
     "name": "stderr",
     "output_type": "stream",
     "text": [
      "938it [00:14, 65.97it/s]\n"
     ]
    },
    {
     "name": "stdout",
     "output_type": "stream",
     "text": [
      "938\n",
      "Epoch - 2 Train Loss - 0.168390 Test Loss - 0.148362 Train Accuracy - 95.260000 Test Accuracy - 95.790000\n"
     ]
    },
    {
     "name": "stderr",
     "output_type": "stream",
     "text": [
      "938it [00:13, 67.39it/s]\n"
     ]
    },
    {
     "name": "stdout",
     "output_type": "stream",
     "text": [
      "938\n",
      "Epoch - 3 Train Loss - 0.128450 Test Loss - 0.120408 Train Accuracy - 96.415000 Test Accuracy - 96.550000\n"
     ]
    },
    {
     "name": "stderr",
     "output_type": "stream",
     "text": [
      "938it [00:13, 67.76it/s]\n"
     ]
    },
    {
     "name": "stdout",
     "output_type": "stream",
     "text": [
      "938\n",
      "Epoch - 4 Train Loss - 0.104285 Test Loss - 0.098108 Train Accuracy - 97.078333 Test Accuracy - 96.990000\n"
     ]
    },
    {
     "name": "stderr",
     "output_type": "stream",
     "text": [
      "938it [00:14, 66.20it/s]\n"
     ]
    },
    {
     "name": "stdout",
     "output_type": "stream",
     "text": [
      "938\n",
      "Epoch - 5 Train Loss - 0.089667 Test Loss - 0.087575 Train Accuracy - 97.478333 Test Accuracy - 97.350000\n"
     ]
    },
    {
     "name": "stderr",
     "output_type": "stream",
     "text": [
      "938it [00:13, 67.74it/s]\n"
     ]
    },
    {
     "name": "stdout",
     "output_type": "stream",
     "text": [
      "938\n",
      "Epoch - 6 Train Loss - 0.079025 Test Loss - 0.079765 Train Accuracy - 97.736667 Test Accuracy - 97.550000\n"
     ]
    },
    {
     "name": "stderr",
     "output_type": "stream",
     "text": [
      "938it [00:13, 68.12it/s]\n"
     ]
    },
    {
     "name": "stdout",
     "output_type": "stream",
     "text": [
      "938\n",
      "Epoch - 7 Train Loss - 0.070941 Test Loss - 0.070472 Train Accuracy - 98.010000 Test Accuracy - 97.850000\n"
     ]
    },
    {
     "name": "stderr",
     "output_type": "stream",
     "text": [
      "938it [00:13, 68.06it/s]\n"
     ]
    },
    {
     "name": "stdout",
     "output_type": "stream",
     "text": [
      "938\n",
      "Epoch - 8 Train Loss - 0.065566 Test Loss - 0.066100 Train Accuracy - 98.120000 Test Accuracy - 97.900000\n"
     ]
    },
    {
     "name": "stderr",
     "output_type": "stream",
     "text": [
      "938it [00:13, 67.79it/s]\n"
     ]
    },
    {
     "name": "stdout",
     "output_type": "stream",
     "text": [
      "938\n",
      "Epoch - 9 Train Loss - 0.060651 Test Loss - 0.062151 Train Accuracy - 98.238333 Test Accuracy - 98.020000\n"
     ]
    },
    {
     "name": "stderr",
     "output_type": "stream",
     "text": [
      "938it [00:13, 68.07it/s]\n"
     ]
    },
    {
     "name": "stdout",
     "output_type": "stream",
     "text": [
      "938\n",
      "Epoch - 10 Train Loss - 0.056564 Test Loss - 0.060784 Train Accuracy - 98.353333 Test Accuracy - 98.120000\n"
     ]
    },
    {
     "name": "stderr",
     "output_type": "stream",
     "text": [
      "938it [00:13, 68.28it/s]\n"
     ]
    },
    {
     "name": "stdout",
     "output_type": "stream",
     "text": [
      "938\n",
      "Epoch - 11 Train Loss - 0.053337 Test Loss - 0.062356 Train Accuracy - 98.438333 Test Accuracy - 97.920000\n"
     ]
    },
    {
     "name": "stderr",
     "output_type": "stream",
     "text": [
      "938it [00:13, 67.96it/s]\n"
     ]
    },
    {
     "name": "stdout",
     "output_type": "stream",
     "text": [
      "938\n",
      "Epoch - 12 Train Loss - 0.050508 Test Loss - 0.059090 Train Accuracy - 98.551667 Test Accuracy - 98.170000\n"
     ]
    },
    {
     "name": "stderr",
     "output_type": "stream",
     "text": [
      "938it [00:14, 66.28it/s]\n"
     ]
    },
    {
     "name": "stdout",
     "output_type": "stream",
     "text": [
      "938\n",
      "Epoch - 13 Train Loss - 0.047893 Test Loss - 0.057920 Train Accuracy - 98.616667 Test Accuracy - 98.160000\n"
     ]
    },
    {
     "name": "stderr",
     "output_type": "stream",
     "text": [
      "938it [00:15, 60.91it/s]\n"
     ]
    },
    {
     "name": "stdout",
     "output_type": "stream",
     "text": [
      "938\n",
      "Epoch - 14 Train Loss - 0.045583 Test Loss - 0.058168 Train Accuracy - 98.673333 Test Accuracy - 98.180000\n"
     ]
    },
    {
     "name": "stderr",
     "output_type": "stream",
     "text": [
      "938it [00:16, 57.74it/s]\n"
     ]
    },
    {
     "name": "stdout",
     "output_type": "stream",
     "text": [
      "938\n",
      "Epoch - 15 Train Loss - 0.043857 Test Loss - 0.056636 Train Accuracy - 98.746667 Test Accuracy - 98.230000\n",
      "For Model with dataset batchsize - 128\n"
     ]
    },
    {
     "name": "stderr",
     "output_type": "stream",
     "text": [
      "469it [00:13, 35.99it/s]\n"
     ]
    },
    {
     "name": "stdout",
     "output_type": "stream",
     "text": [
      "469\n",
      "Epoch - 0 Train Loss - 0.506578 Test Loss - 0.283572 Train Accuracy - 87.153333 Test Accuracy - 91.960000\n"
     ]
    },
    {
     "name": "stderr",
     "output_type": "stream",
     "text": [
      "469it [00:13, 35.92it/s]\n"
     ]
    },
    {
     "name": "stdout",
     "output_type": "stream",
     "text": [
      "469\n",
      "Epoch - 1 Train Loss - 0.268816 Test Loss - 0.229927 Train Accuracy - 92.323333 Test Accuracy - 93.490000\n"
     ]
    },
    {
     "name": "stderr",
     "output_type": "stream",
     "text": [
      "469it [00:13, 35.93it/s]\n"
     ]
    },
    {
     "name": "stdout",
     "output_type": "stream",
     "text": [
      "469\n",
      "Epoch - 2 Train Loss - 0.224041 Test Loss - 0.194064 Train Accuracy - 93.616667 Test Accuracy - 94.450000\n"
     ]
    },
    {
     "name": "stderr",
     "output_type": "stream",
     "text": [
      "469it [00:13, 35.88it/s]\n"
     ]
    },
    {
     "name": "stdout",
     "output_type": "stream",
     "text": [
      "469\n",
      "Epoch - 3 Train Loss - 0.188900 Test Loss - 0.165975 Train Accuracy - 94.638333 Test Accuracy - 95.450000\n"
     ]
    },
    {
     "name": "stderr",
     "output_type": "stream",
     "text": [
      "469it [00:13, 33.73it/s]\n"
     ]
    },
    {
     "name": "stdout",
     "output_type": "stream",
     "text": [
      "469\n",
      "Epoch - 4 Train Loss - 0.161576 Test Loss - 0.142397 Train Accuracy - 95.433333 Test Accuracy - 96.040000\n"
     ]
    },
    {
     "name": "stderr",
     "output_type": "stream",
     "text": [
      "469it [00:13, 35.66it/s]\n"
     ]
    },
    {
     "name": "stdout",
     "output_type": "stream",
     "text": [
      "469\n",
      "Epoch - 5 Train Loss - 0.139012 Test Loss - 0.125207 Train Accuracy - 96.136667 Test Accuracy - 96.510000\n"
     ]
    },
    {
     "name": "stderr",
     "output_type": "stream",
     "text": [
      "469it [00:14, 31.56it/s]\n"
     ]
    },
    {
     "name": "stdout",
     "output_type": "stream",
     "text": [
      "469\n",
      "Epoch - 6 Train Loss - 0.122287 Test Loss - 0.108305 Train Accuracy - 96.611667 Test Accuracy - 97.010000\n"
     ]
    },
    {
     "name": "stderr",
     "output_type": "stream",
     "text": [
      "469it [00:13, 35.91it/s]\n"
     ]
    },
    {
     "name": "stdout",
     "output_type": "stream",
     "text": [
      "469\n",
      "Epoch - 7 Train Loss - 0.109247 Test Loss - 0.103055 Train Accuracy - 97.011667 Test Accuracy - 97.170000\n"
     ]
    },
    {
     "name": "stderr",
     "output_type": "stream",
     "text": [
      "469it [00:13, 35.99it/s]\n"
     ]
    },
    {
     "name": "stdout",
     "output_type": "stream",
     "text": [
      "469\n",
      "Epoch - 8 Train Loss - 0.098306 Test Loss - 0.092871 Train Accuracy - 97.313333 Test Accuracy - 97.290000\n"
     ]
    },
    {
     "name": "stderr",
     "output_type": "stream",
     "text": [
      "469it [00:13, 35.85it/s]\n"
     ]
    },
    {
     "name": "stdout",
     "output_type": "stream",
     "text": [
      "469\n",
      "Epoch - 9 Train Loss - 0.090759 Test Loss - 0.090223 Train Accuracy - 97.520000 Test Accuracy - 97.580000\n"
     ]
    },
    {
     "name": "stderr",
     "output_type": "stream",
     "text": [
      "469it [00:13, 35.91it/s]\n"
     ]
    },
    {
     "name": "stdout",
     "output_type": "stream",
     "text": [
      "469\n",
      "Epoch - 10 Train Loss - 0.084187 Test Loss - 0.080185 Train Accuracy - 97.686667 Test Accuracy - 97.580000\n"
     ]
    },
    {
     "name": "stderr",
     "output_type": "stream",
     "text": [
      "469it [00:12, 36.09it/s]\n"
     ]
    },
    {
     "name": "stdout",
     "output_type": "stream",
     "text": [
      "469\n",
      "Epoch - 11 Train Loss - 0.078743 Test Loss - 0.078518 Train Accuracy - 97.838333 Test Accuracy - 97.800000\n"
     ]
    },
    {
     "name": "stderr",
     "output_type": "stream",
     "text": [
      "469it [00:12, 36.11it/s]\n"
     ]
    },
    {
     "name": "stdout",
     "output_type": "stream",
     "text": [
      "469\n",
      "Epoch - 12 Train Loss - 0.074278 Test Loss - 0.073466 Train Accuracy - 97.918333 Test Accuracy - 97.880000\n"
     ]
    },
    {
     "name": "stderr",
     "output_type": "stream",
     "text": [
      "469it [00:15, 30.73it/s]\n"
     ]
    },
    {
     "name": "stdout",
     "output_type": "stream",
     "text": [
      "469\n",
      "Epoch - 13 Train Loss - 0.070396 Test Loss - 0.069866 Train Accuracy - 98.048333 Test Accuracy - 97.900000\n"
     ]
    },
    {
     "name": "stderr",
     "output_type": "stream",
     "text": [
      "469it [00:15, 30.40it/s]\n"
     ]
    },
    {
     "name": "stdout",
     "output_type": "stream",
     "text": [
      "469\n",
      "Epoch - 14 Train Loss - 0.066921 Test Loss - 0.067252 Train Accuracy - 98.136667 Test Accuracy - 98.050000\n"
     ]
    },
    {
     "name": "stderr",
     "output_type": "stream",
     "text": [
      "469it [00:14, 32.62it/s]\n"
     ]
    },
    {
     "name": "stdout",
     "output_type": "stream",
     "text": [
      "469\n",
      "Epoch - 15 Train Loss - 0.064101 Test Loss - 0.064534 Train Accuracy - 98.173333 Test Accuracy - 98.060000\n",
      "For Model with dataset batchsize - 512\n"
     ]
    },
    {
     "name": "stderr",
     "output_type": "stream",
     "text": [
      "118it [00:12,  9.40it/s]\n"
     ]
    },
    {
     "name": "stdout",
     "output_type": "stream",
     "text": [
      "118\n",
      "Epoch - 0 Train Loss - 0.942242 Test Loss - 0.464519 Train Accuracy - 80.091667 Test Accuracy - 88.520000\n"
     ]
    },
    {
     "name": "stderr",
     "output_type": "stream",
     "text": [
      "118it [00:14,  8.00it/s]\n"
     ]
    },
    {
     "name": "stdout",
     "output_type": "stream",
     "text": [
      "118\n",
      "Epoch - 1 Train Loss - 0.413350 Test Loss - 0.349199 Train Accuracy - 88.890000 Test Accuracy - 90.550000\n"
     ]
    },
    {
     "name": "stderr",
     "output_type": "stream",
     "text": [
      "118it [00:12,  9.09it/s]\n"
     ]
    },
    {
     "name": "stdout",
     "output_type": "stream",
     "text": [
      "118\n",
      "Epoch - 2 Train Loss - 0.346130 Test Loss - 0.318671 Train Accuracy - 90.288333 Test Accuracy - 91.000000\n"
     ]
    },
    {
     "name": "stderr",
     "output_type": "stream",
     "text": [
      "118it [00:14,  8.31it/s]\n"
     ]
    },
    {
     "name": "stdout",
     "output_type": "stream",
     "text": [
      "118\n",
      "Epoch - 3 Train Loss - 0.314016 Test Loss - 0.290013 Train Accuracy - 91.016667 Test Accuracy - 92.090000\n"
     ]
    },
    {
     "name": "stderr",
     "output_type": "stream",
     "text": [
      "118it [00:14,  7.93it/s]\n"
     ]
    },
    {
     "name": "stdout",
     "output_type": "stream",
     "text": [
      "118\n",
      "Epoch - 4 Train Loss - 0.293854 Test Loss - 0.273183 Train Accuracy - 91.611667 Test Accuracy - 92.410000\n"
     ]
    },
    {
     "name": "stderr",
     "output_type": "stream",
     "text": [
      "118it [00:12,  9.41it/s]\n"
     ]
    },
    {
     "name": "stdout",
     "output_type": "stream",
     "text": [
      "118\n",
      "Epoch - 5 Train Loss - 0.278544 Test Loss - 0.258852 Train Accuracy - 92.038333 Test Accuracy - 92.750000\n"
     ]
    },
    {
     "name": "stderr",
     "output_type": "stream",
     "text": [
      "118it [00:12,  9.45it/s]\n"
     ]
    },
    {
     "name": "stdout",
     "output_type": "stream",
     "text": [
      "118\n",
      "Epoch - 6 Train Loss - 0.265057 Test Loss - 0.248365 Train Accuracy - 92.421667 Test Accuracy - 92.960000\n"
     ]
    },
    {
     "name": "stderr",
     "output_type": "stream",
     "text": [
      "118it [00:12,  9.39it/s]\n"
     ]
    },
    {
     "name": "stdout",
     "output_type": "stream",
     "text": [
      "118\n",
      "Epoch - 7 Train Loss - 0.253652 Test Loss - 0.238599 Train Accuracy - 92.701667 Test Accuracy - 93.390000\n"
     ]
    },
    {
     "name": "stderr",
     "output_type": "stream",
     "text": [
      "118it [00:12,  9.35it/s]\n"
     ]
    },
    {
     "name": "stdout",
     "output_type": "stream",
     "text": [
      "118\n",
      "Epoch - 8 Train Loss - 0.243113 Test Loss - 0.227754 Train Accuracy - 93.093333 Test Accuracy - 93.430000\n"
     ]
    },
    {
     "name": "stderr",
     "output_type": "stream",
     "text": [
      "118it [00:13,  8.84it/s]\n"
     ]
    },
    {
     "name": "stdout",
     "output_type": "stream",
     "text": [
      "118\n",
      "Epoch - 9 Train Loss - 0.234626 Test Loss - 0.221012 Train Accuracy - 93.335000 Test Accuracy - 93.930000\n"
     ]
    },
    {
     "name": "stderr",
     "output_type": "stream",
     "text": [
      "118it [00:14,  8.21it/s]\n"
     ]
    },
    {
     "name": "stdout",
     "output_type": "stream",
     "text": [
      "118\n",
      "Epoch - 10 Train Loss - 0.225424 Test Loss - 0.218947 Train Accuracy - 93.641667 Test Accuracy - 93.650000\n"
     ]
    },
    {
     "name": "stderr",
     "output_type": "stream",
     "text": [
      "118it [00:12,  9.42it/s]\n"
     ]
    },
    {
     "name": "stdout",
     "output_type": "stream",
     "text": [
      "118\n",
      "Epoch - 11 Train Loss - 0.216142 Test Loss - 0.204817 Train Accuracy - 93.901667 Test Accuracy - 94.250000\n"
     ]
    },
    {
     "name": "stderr",
     "output_type": "stream",
     "text": [
      "118it [00:12,  9.35it/s]\n"
     ]
    },
    {
     "name": "stdout",
     "output_type": "stream",
     "text": [
      "118\n",
      "Epoch - 12 Train Loss - 0.207503 Test Loss - 0.196516 Train Accuracy - 94.168333 Test Accuracy - 94.580000\n"
     ]
    },
    {
     "name": "stderr",
     "output_type": "stream",
     "text": [
      "118it [00:12,  9.41it/s]\n"
     ]
    },
    {
     "name": "stdout",
     "output_type": "stream",
     "text": [
      "118\n",
      "Epoch - 13 Train Loss - 0.199153 Test Loss - 0.189935 Train Accuracy - 94.383333 Test Accuracy - 94.570000\n"
     ]
    },
    {
     "name": "stderr",
     "output_type": "stream",
     "text": [
      "118it [00:14,  8.13it/s]\n"
     ]
    },
    {
     "name": "stdout",
     "output_type": "stream",
     "text": [
      "118\n",
      "Epoch - 14 Train Loss - 0.191289 Test Loss - 0.186764 Train Accuracy - 94.645000 Test Accuracy - 94.750000\n"
     ]
    },
    {
     "name": "stderr",
     "output_type": "stream",
     "text": [
      "118it [00:12,  9.41it/s]\n"
     ]
    },
    {
     "name": "stdout",
     "output_type": "stream",
     "text": [
      "118\n",
      "Epoch - 15 Train Loss - 0.183711 Test Loss - 0.178517 Train Accuracy - 94.860000 Test Accuracy - 95.070000\n",
      "For Model with dataset batchsize - 2048\n"
     ]
    },
    {
     "name": "stderr",
     "output_type": "stream",
     "text": [
      "30it [00:12,  2.42it/s]\n"
     ]
    },
    {
     "name": "stdout",
     "output_type": "stream",
     "text": [
      "30\n",
      "Epoch - 0 Train Loss - 1.653012 Test Loss - 1.121721 Train Accuracy - 67.760000 Test Accuracy - 81.430000\n"
     ]
    },
    {
     "name": "stderr",
     "output_type": "stream",
     "text": [
      "30it [00:12,  2.42it/s]\n"
     ]
    },
    {
     "name": "stdout",
     "output_type": "stream",
     "text": [
      "30\n",
      "Epoch - 1 Train Loss - 0.896367 Test Loss - 0.695516 Train Accuracy - 82.880000 Test Accuracy - 85.560000\n"
     ]
    },
    {
     "name": "stderr",
     "output_type": "stream",
     "text": [
      "30it [00:12,  2.41it/s]\n"
     ]
    },
    {
     "name": "stdout",
     "output_type": "stream",
     "text": [
      "30\n",
      "Epoch - 2 Train Loss - 0.628559 Test Loss - 0.537097 Train Accuracy - 85.775000 Test Accuracy - 87.100000\n"
     ]
    },
    {
     "name": "stderr",
     "output_type": "stream",
     "text": [
      "30it [00:13,  2.29it/s]\n"
     ]
    },
    {
     "name": "stdout",
     "output_type": "stream",
     "text": [
      "30\n",
      "Epoch - 3 Train Loss - 0.515266 Test Loss - 0.460080 Train Accuracy - 87.156667 Test Accuracy - 88.510000\n"
     ]
    },
    {
     "name": "stderr",
     "output_type": "stream",
     "text": [
      "30it [00:14,  2.03it/s]\n"
     ]
    },
    {
     "name": "stdout",
     "output_type": "stream",
     "text": [
      "30\n",
      "Epoch - 4 Train Loss - 0.455839 Test Loss - 0.413663 Train Accuracy - 88.086667 Test Accuracy - 89.390000\n"
     ]
    },
    {
     "name": "stderr",
     "output_type": "stream",
     "text": [
      "30it [00:14,  2.04it/s]\n"
     ]
    },
    {
     "name": "stdout",
     "output_type": "stream",
     "text": [
      "30\n",
      "Epoch - 5 Train Loss - 0.417127 Test Loss - 0.384747 Train Accuracy - 88.736667 Test Accuracy - 89.810000\n"
     ]
    },
    {
     "name": "stderr",
     "output_type": "stream",
     "text": [
      "30it [00:14,  2.04it/s]\n"
     ]
    },
    {
     "name": "stdout",
     "output_type": "stream",
     "text": [
      "30\n",
      "Epoch - 6 Train Loss - 0.391323 Test Loss - 0.363834 Train Accuracy - 89.233333 Test Accuracy - 90.230000\n"
     ]
    },
    {
     "name": "stderr",
     "output_type": "stream",
     "text": [
      "30it [00:14,  2.04it/s]\n"
     ]
    },
    {
     "name": "stdout",
     "output_type": "stream",
     "text": [
      "30\n",
      "Epoch - 7 Train Loss - 0.373970 Test Loss - 0.345907 Train Accuracy - 89.590000 Test Accuracy - 90.400000\n"
     ]
    },
    {
     "name": "stderr",
     "output_type": "stream",
     "text": [
      "30it [00:14,  2.04it/s]\n"
     ]
    },
    {
     "name": "stdout",
     "output_type": "stream",
     "text": [
      "30\n",
      "Epoch - 8 Train Loss - 0.358939 Test Loss - 0.334340 Train Accuracy - 89.970000 Test Accuracy - 90.850000\n"
     ]
    },
    {
     "name": "stderr",
     "output_type": "stream",
     "text": [
      "30it [00:14,  2.03it/s]\n"
     ]
    },
    {
     "name": "stdout",
     "output_type": "stream",
     "text": [
      "30\n",
      "Epoch - 9 Train Loss - 0.346192 Test Loss - 0.323041 Train Accuracy - 90.243333 Test Accuracy - 91.110000\n"
     ]
    },
    {
     "name": "stderr",
     "output_type": "stream",
     "text": [
      "30it [00:13,  2.29it/s]\n"
     ]
    },
    {
     "name": "stdout",
     "output_type": "stream",
     "text": [
      "30\n",
      "Epoch - 10 Train Loss - 0.335718 Test Loss - 0.314606 Train Accuracy - 90.433333 Test Accuracy - 91.180000\n"
     ]
    },
    {
     "name": "stderr",
     "output_type": "stream",
     "text": [
      "30it [00:12,  2.43it/s]\n"
     ]
    },
    {
     "name": "stdout",
     "output_type": "stream",
     "text": [
      "30\n",
      "Epoch - 11 Train Loss - 0.327603 Test Loss - 0.307695 Train Accuracy - 90.670000 Test Accuracy - 91.430000\n"
     ]
    },
    {
     "name": "stderr",
     "output_type": "stream",
     "text": [
      "30it [00:12,  2.41it/s]\n"
     ]
    },
    {
     "name": "stdout",
     "output_type": "stream",
     "text": [
      "30\n",
      "Epoch - 12 Train Loss - 0.320357 Test Loss - 0.300433 Train Accuracy - 90.836667 Test Accuracy - 91.530000\n"
     ]
    },
    {
     "name": "stderr",
     "output_type": "stream",
     "text": [
      "30it [00:12,  2.42it/s]\n"
     ]
    },
    {
     "name": "stdout",
     "output_type": "stream",
     "text": [
      "30\n",
      "Epoch - 13 Train Loss - 0.313640 Test Loss - 0.293305 Train Accuracy - 91.046667 Test Accuracy - 91.870000\n"
     ]
    },
    {
     "name": "stderr",
     "output_type": "stream",
     "text": [
      "30it [00:12,  2.41it/s]\n"
     ]
    },
    {
     "name": "stdout",
     "output_type": "stream",
     "text": [
      "30\n",
      "Epoch - 14 Train Loss - 0.306623 Test Loss - 0.289068 Train Accuracy - 91.195000 Test Accuracy - 91.750000\n"
     ]
    },
    {
     "name": "stderr",
     "output_type": "stream",
     "text": [
      "30it [00:12,  2.42it/s]\n"
     ]
    },
    {
     "name": "stdout",
     "output_type": "stream",
     "text": [
      "30\n",
      "Epoch - 15 Train Loss - 0.300604 Test Loss - 0.284153 Train Accuracy - 91.383333 Test Accuracy - 91.970000\n",
      "For Model with dataset batchsize - 4096\n"
     ]
    },
    {
     "name": "stderr",
     "output_type": "stream",
     "text": [
      "15it [00:12,  1.21it/s]\n"
     ]
    },
    {
     "name": "stdout",
     "output_type": "stream",
     "text": [
      "15\n",
      "Epoch - 0 Train Loss - 1.894867 Test Loss - 1.507291 Train Accuracy - 57.150000 Test Accuracy - 75.010000\n"
     ]
    },
    {
     "name": "stderr",
     "output_type": "stream",
     "text": [
      "15it [00:12,  1.21it/s]\n"
     ]
    },
    {
     "name": "stdout",
     "output_type": "stream",
     "text": [
      "15\n",
      "Epoch - 1 Train Loss - 1.296705 Test Loss - 1.065856 Train Accuracy - 77.076667 Test Accuracy - 81.510000\n"
     ]
    },
    {
     "name": "stderr",
     "output_type": "stream",
     "text": [
      "15it [00:12,  1.22it/s]\n"
     ]
    },
    {
     "name": "stdout",
     "output_type": "stream",
     "text": [
      "15\n",
      "Epoch - 2 Train Loss - 0.957450 Test Loss - 0.821054 Train Accuracy - 81.906667 Test Accuracy - 84.670000\n"
     ]
    },
    {
     "name": "stderr",
     "output_type": "stream",
     "text": [
      "15it [00:12,  1.22it/s]\n"
     ]
    },
    {
     "name": "stdout",
     "output_type": "stream",
     "text": [
      "15\n",
      "Epoch - 3 Train Loss - 0.764464 Test Loss - 0.669168 Train Accuracy - 84.373333 Test Accuracy - 86.470000\n"
     ]
    },
    {
     "name": "stderr",
     "output_type": "stream",
     "text": [
      "15it [00:12,  1.20it/s]\n"
     ]
    },
    {
     "name": "stdout",
     "output_type": "stream",
     "text": [
      "15\n",
      "Epoch - 4 Train Loss - 0.647140 Test Loss - 0.586331 Train Accuracy - 85.728333 Test Accuracy - 87.610000\n"
     ]
    },
    {
     "name": "stderr",
     "output_type": "stream",
     "text": [
      "15it [00:12,  1.21it/s]\n"
     ]
    },
    {
     "name": "stdout",
     "output_type": "stream",
     "text": [
      "15\n",
      "Epoch - 5 Train Loss - 0.571616 Test Loss - 0.512334 Train Accuracy - 86.745000 Test Accuracy - 88.240000\n"
     ]
    },
    {
     "name": "stderr",
     "output_type": "stream",
     "text": [
      "15it [00:12,  1.22it/s]\n"
     ]
    },
    {
     "name": "stdout",
     "output_type": "stream",
     "text": [
      "15\n",
      "Epoch - 6 Train Loss - 0.518973 Test Loss - 0.472384 Train Accuracy - 87.465000 Test Accuracy - 88.820000\n"
     ]
    },
    {
     "name": "stderr",
     "output_type": "stream",
     "text": [
      "15it [00:12,  1.22it/s]\n"
     ]
    },
    {
     "name": "stdout",
     "output_type": "stream",
     "text": [
      "15\n",
      "Epoch - 7 Train Loss - 0.481483 Test Loss - 0.446088 Train Accuracy - 87.975000 Test Accuracy - 89.340000\n"
     ]
    },
    {
     "name": "stderr",
     "output_type": "stream",
     "text": [
      "15it [00:12,  1.21it/s]\n"
     ]
    },
    {
     "name": "stdout",
     "output_type": "stream",
     "text": [
      "15\n",
      "Epoch - 8 Train Loss - 0.453059 Test Loss - 0.419123 Train Accuracy - 88.458333 Test Accuracy - 89.620000\n"
     ]
    },
    {
     "name": "stderr",
     "output_type": "stream",
     "text": [
      "15it [00:12,  1.21it/s]\n"
     ]
    },
    {
     "name": "stdout",
     "output_type": "stream",
     "text": [
      "15\n",
      "Epoch - 9 Train Loss - 0.429989 Test Loss - 0.394999 Train Accuracy - 88.780000 Test Accuracy - 89.920000\n"
     ]
    },
    {
     "name": "stderr",
     "output_type": "stream",
     "text": [
      "15it [00:12,  1.21it/s]\n"
     ]
    },
    {
     "name": "stdout",
     "output_type": "stream",
     "text": [
      "15\n",
      "Epoch - 10 Train Loss - 0.411556 Test Loss - 0.380637 Train Accuracy - 89.050000 Test Accuracy - 90.120000\n"
     ]
    },
    {
     "name": "stderr",
     "output_type": "stream",
     "text": [
      "15it [00:12,  1.21it/s]\n"
     ]
    },
    {
     "name": "stdout",
     "output_type": "stream",
     "text": [
      "15\n",
      "Epoch - 11 Train Loss - 0.397027 Test Loss - 0.366516 Train Accuracy - 89.305000 Test Accuracy - 90.390000\n"
     ]
    },
    {
     "name": "stderr",
     "output_type": "stream",
     "text": [
      "15it [00:12,  1.21it/s]\n"
     ]
    },
    {
     "name": "stdout",
     "output_type": "stream",
     "text": [
      "15\n",
      "Epoch - 12 Train Loss - 0.383941 Test Loss - 0.359879 Train Accuracy - 89.496667 Test Accuracy - 90.530000\n"
     ]
    },
    {
     "name": "stderr",
     "output_type": "stream",
     "text": [
      "15it [00:12,  1.21it/s]\n"
     ]
    },
    {
     "name": "stdout",
     "output_type": "stream",
     "text": [
      "15\n",
      "Epoch - 13 Train Loss - 0.373584 Test Loss - 0.346915 Train Accuracy - 89.655000 Test Accuracy - 90.800000\n"
     ]
    },
    {
     "name": "stderr",
     "output_type": "stream",
     "text": [
      "15it [00:12,  1.21it/s]\n"
     ]
    },
    {
     "name": "stdout",
     "output_type": "stream",
     "text": [
      "15\n",
      "Epoch - 14 Train Loss - 0.363738 Test Loss - 0.342900 Train Accuracy - 89.848333 Test Accuracy - 90.970000\n"
     ]
    },
    {
     "name": "stderr",
     "output_type": "stream",
     "text": [
      "15it [00:12,  1.21it/s]\n"
     ]
    },
    {
     "name": "stdout",
     "output_type": "stream",
     "text": [
      "15\n",
      "Epoch - 15 Train Loss - 0.355515 Test Loss - 0.329475 Train Accuracy - 90.060000 Test Accuracy - 91.080000\n"
     ]
    }
   ],
   "source": [
    "epochs = 16\n",
    "train_loss_dict = {}\n",
    "train_acc_dict = {}\n",
    "test_loss_dict = {}\n",
    "test_acc_dict = {}\n",
    "model_state = {}\n",
    "sensivity_arr = []\n",
    "\n",
    "for batch_size in [64, 128, 512, 2048, 4096]:\n",
    "    train_loss_arr = []\n",
    "    train_acc_arr = []\n",
    "    test_loss_arr = []\n",
    "    test_acc_arr = []\n",
    "    training_DataLoader, testing_DataLoader = dataset_prep(batch_size)\n",
    "    print(f\"For Model with dataset batchsize - {batch_size}\")\n",
    "    model = CNNModel().to(device)\n",
    "    optimizer1 = optim.SGD(model.parameters(), lr=1e-2)\n",
    "    for epoch in range(epochs):\n",
    "        train_loss, train_acc = train(model, optimizer1, training_DataLoader)\n",
    "        test_loss, test_acc = test(model, testing_DataLoader)\n",
    "        print(f'Epoch - {epoch} Train Loss - {train_loss:.6f} Test Loss - {test_loss:.6f} Train Accuracy - {train_acc:.6f} Test Accuracy - {test_acc:.6f}')\n",
    "        train_loss_arr.append(train_loss)\n",
    "        train_acc_arr.append(train_acc)\n",
    "        test_loss_arr.append(test_loss)\n",
    "        test_acc_arr.append(test_acc)\n",
    "    key_str = f\"model_{batch_size}\"\n",
    "    train_loss_dict[key_str] = train_loss_arr\n",
    "    train_acc_dict[key_str] = train_acc_arr\n",
    "    test_loss_dict[key_str] = test_loss_arr\n",
    "    test_acc_dict[key_str] = test_acc_arr\n",
    "    model_state[key_str] = model\n",
    "    sensivity_arr.append(sensitivity(model))\n",
    "\n",
    "\n"
   ]
  },
  {
   "cell_type": "code",
   "execution_count": 76,
   "metadata": {
    "id": "kmGwTOc8I5n1"
   },
   "outputs": [],
   "source": [
    "all_train_loss_arr = []\n",
    "all_test_loss_arr = []\n",
    "for item in train_loss_dict.values():\n",
    "    all_train_loss_arr.append(np.mean(item))\n",
    "for item in test_loss_dict.values():\n",
    "    all_test_loss_arr.append(np.mean(item))\n"
   ]
  },
  {
   "cell_type": "code",
   "execution_count": 77,
   "metadata": {
    "colab": {
     "base_uri": "https://localhost:8080/"
    },
    "id": "IVuNwZYtUzhc",
    "outputId": "0aff5235-2f2c-40a2-94fc-86401136efc1"
   },
   "outputs": [
    {
     "data": {
      "text/plain": [
       "[0.10663714386870249,\n",
       " 0.14675931173373263,\n",
       " 0.3004877752845444,\n",
       " 0.4963211667413513,\n",
       " 0.6438191536813975]"
      ]
     },
     "execution_count": 77,
     "metadata": {},
     "output_type": "execute_result"
    }
   ],
   "source": [
    "all_train_loss_arr"
   ]
  },
  {
   "cell_type": "code",
   "execution_count": 78,
   "metadata": {
    "colab": {
     "base_uri": "https://localhost:8080/"
    },
    "id": "sDEny8VPye-m",
    "outputId": "de924ce1-f647-4474-bd6b-a3487ac7672e"
   },
   "outputs": [
    {
     "data": {
      "text/plain": [
       "[0.12916104961186647,\n",
       " 0.3922826924050848,\n",
       " 0.36900745797902346,\n",
       " 0.14714564165721336,\n",
       " 0.11652321578003466]"
      ]
     },
     "execution_count": 78,
     "metadata": {},
     "output_type": "execute_result"
    }
   ],
   "source": [
    "sensivity_arr"
   ]
  },
  {
   "cell_type": "code",
   "execution_count": 80,
   "metadata": {
    "colab": {
     "base_uri": "https://localhost:8080/",
     "height": 564
    },
    "id": "r4LBUT5lP--P",
    "outputId": "e2ac890e-6a33-4384-b301-534a0c7d7d33"
   },
   "outputs": [
    {
     "data": {
      "image/png": "[encoded data removed]",
      "text/plain": [
       "<Figure size 1200x600 with 2 Axes>"
      ]
     },
     "metadata": {},
     "output_type": "display_data"
    }
   ],
   "source": [
    "plt.figure(figsize=(12, 6))\n",
    "\n",
    "# Plot train and test loss\n",
    "plt.plot([64, 128, 512, 2048, 4096], all_train_loss_arr, color=\"red\", label='Train Loss')\n",
    "plt.plot([64, 128, 512, 2048, 4096], all_test_loss_arr, color=\"green\", label='Test Loss')\n",
    "plt.xlabel('Batch Sizes')\n",
    "plt.ylabel('Cross Entropy Loss')\n",
    "plt.legend(loc='upper left')\n",
    "\n",
    "# Create a second y-axis for sensitivity\n",
    "ax2 = plt.twinx()\n",
    "plt.plot([64, 128, 512, 2048, 4096], sensivity_arr, color=\"blue\", label='Sensitivity')\n",
    "plt.ylabel('Sensitivity')\n",
    "plt.legend(loc='upper right')\n",
    "\n",
    "plt.title('Model Loss and Sensitivity Comparison')\n",
    "plt.xlabel('Batch Sizes')\n",
    "\n",
    "plt.show()\n"
   ]
  },
  {
   "cell_type": "code",
   "execution_count": 81,
   "metadata": {
    "id": "LXNHdH31QeOY"
   },
   "outputs": [],
   "source": [
    "all_train_acc_arr = []\n",
    "all_test_acc_arr = []\n",
    "for item in train_acc_dict.values():\n",
    "    all_train_acc_arr.append(np.mean(item))\n",
    "for item in test_acc_dict.values():\n",
    "    all_test_acc_arr.append(np.mean(item))"
   ]
  },
  {
   "cell_type": "code",
   "execution_count": 82,
   "metadata": {
    "colab": {
     "base_uri": "https://localhost:8080/"
    },
    "id": "5wxLuCNoxDpS",
    "outputId": "4722e852-0202-48a9-a135-ae771149d8a6"
   },
   "outputs": [
    {
     "data": {
      "text/plain": [
       "([97.0025, 95.9725, 91.94302083333334, 87.81229166666667, 85.19208333333333],\n",
       " [97.14125, 96.51375, 92.99375, 89.63250000000001, 87.81875])"
      ]
     },
     "execution_count": 82,
     "metadata": {},
     "output_type": "execute_result"
    }
   ],
   "source": [
    "all_train_acc_arr, all_test_acc_arr"
   ]
  },
  {
   "cell_type": "code",
   "execution_count": 83,
   "metadata": {
    "colab": {
     "base_uri": "https://localhost:8080/",
     "height": 564
    },
    "id": "q3PlQCaiw5bO",
    "outputId": "d357517c-4527-41ba-9be7-6b2cd4496618"
   },
   "outputs": [
    {
     "data": {
      "image/png": "[encoded data removed]",
      "text/plain": [
       "<Figure size 1200x600 with 2 Axes>"
      ]
     },
     "metadata": {},
     "output_type": "display_data"
    }
   ],
   "source": [
    "plt.figure(figsize=(12, 6))\n",
    "\n",
    "# Plot train and test accuracy\n",
    "plt.plot([64, 128, 512, 2048, 4096], all_train_acc_arr, color=\"red\", label='Train Accuracy')\n",
    "plt.plot([64, 128, 512, 2048, 4096], all_test_acc_arr, color=\"green\", label='Test Accuracy')\n",
    "plt.xlabel('Batch Sizes')\n",
    "plt.ylabel('Accuracy')\n",
    "plt.legend(loc='upper left')\n",
    "\n",
    "# Create a second y-axis for sensitivity\n",
    "ax2 = plt.twinx()\n",
    "plt.plot([64, 128, 512, 2048, 4096], sensivity_arr, color=\"blue\", label='Sensitivity')\n",
    "plt.ylabel('Sensitivity')\n",
    "plt.legend(loc='upper right')\n",
    "\n",
    "plt.title('Model Accuracy and Sensitivity Comparison')\n",
    "\n",
    "plt.show()\n"
   ]
  },
  {
   "cell_type": "code",
   "execution_count": null,
   "metadata": {},
   "outputs": [],
   "source": []
  }
 ],
 "metadata": {
  "accelerator": "GPU",
  "colab": {
   "provenance": []
  },
  "kernelspec": {
   "display_name": "Python 3 (ipykernel)",
   "language": "python",
   "name": "python3"
  },
  "language_info": {
   "codemirror_mode": {
    "name": "ipython",
    "version": 3
   },
   "file_extension": ".py",
   "mimetype": "text/x-python",
   "name": "python",
   "nbconvert_exporter": "python",
   "pygments_lexer": "ipython3",
   "version": "3.9.13"
  }
 },
 "nbformat": 4,
 "nbformat_minor": 4
}
