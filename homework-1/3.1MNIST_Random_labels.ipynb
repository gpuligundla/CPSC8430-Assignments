{
 "cells": [
  {
   "cell_type": "code",
   "execution_count": 4,
   "metadata": {
    "id": "nmo93HsaQC08"
   },
   "outputs": [],
   "source": [
    "import torch\n",
    "import torch.nn as nn\n",
    "import torch.optim as optim\n",
    "from torchvision import datasets, transforms\n",
    "from torch.utils.data import DataLoader\n",
    "import torch.nn.functional as F\n",
    "import numpy as np\n",
    "import matplotlib.pyplot as plt\n",
    "from tqdm import tqdm\n",
    "import random"
   ]
  },
  {
   "cell_type": "code",
   "execution_count": 5,
   "metadata": {
    "colab": {
     "base_uri": "https://localhost:8080/"
    },
    "id": "umyAB0EcXenr",
    "outputId": "ee12f931-a7fe-4c27-f29f-87c78463a4ee"
   },
   "outputs": [
    {
     "name": "stdout",
     "output_type": "stream",
     "text": [
      "cuda\n"
     ]
    }
   ],
   "source": [
    "torch.manual_seed(42)\n",
    "device = torch.device(\"cuda\") if torch.cuda.is_available() else torch.device(\"cpu\")\n",
    "print(device)"
   ]
  },
  {
   "cell_type": "code",
   "execution_count": 6,
   "metadata": {
    "colab": {
     "base_uri": "https://localhost:8080/"
    },
    "id": "jToI5G8gR12s",
    "outputId": "11fbc73a-3768-46db-9465-bf37028394be"
   },
   "outputs": [],
   "source": [
    "# dataset prep\n",
    "batch_size = 128\n",
    "\n",
    "transform=transforms.Compose([\n",
    "        transforms.ToTensor(),\n",
    "        transforms.Normalize((0.1307,), (0.3081,)),\n",
    "        ])\n",
    "train_data = datasets.MNIST('mnist_data', train=True, download=True, transform=transform)\n",
    "test_data = datasets.MNIST('mnist_data', train=False, download=True, transform=transform)\n",
    "\n",
    "# Generate random labels\n",
    "random_labels = torch.randint(0, 10, (len(train_data),), dtype=torch.long)\n",
    "\n",
    "# Assign random labels to the training dataset\n",
    "train_data.targets = random_labels\n",
    "\n",
    "training_DataLoader = DataLoader(train_data, batch_size=batch_size, shuffle=True)\n",
    "testing_DataLoader= DataLoader(test_data, batch_size=batch_size, shuffle=True)"
   ]
  },
  {
   "cell_type": "code",
   "execution_count": 7,
   "metadata": {
    "id": "6iSRycrqvvLO"
   },
   "outputs": [],
   "source": [
    "class Model(nn.Module):\n",
    "  def __init__(self):\n",
    "    super(Model, self).__init__()\n",
    "    self.conv1 = nn.Conv2d(1, 32, kernel_size=3, stride=1, padding=1)\n",
    "    self.conv2 = nn.Conv2d(32, 64, kernel_size=3, stride=1, padding=1)\n",
    "\n",
    "    self.pool1 = nn.MaxPool2d(kernel_size=2, stride=2)\n",
    "    self.pool2 = nn.MaxPool2d(kernel_size=2, stride=2)\n",
    "\n",
    "    self.dense1 = nn.Linear(64*7*7, 128)\n",
    "    self.dense2 = nn.Linear(128, 10)\n",
    "\n",
    "\n",
    "  def forward(self, x):\n",
    "    x = self.conv1(x)\n",
    "    x = F.relu(x)\n",
    "    x = self.pool1(x)\n",
    "    x = self.conv2(x)\n",
    "    x = F.relu(x)\n",
    "    x = self.pool2(x)\n",
    "    x = x.view(x.shape[0], -1)\n",
    "    x = self.dense1(x)\n",
    "    x = self.dense2(x)\n",
    "    return F.log_softmax(x, dim=1)"
   ]
  },
  {
   "cell_type": "code",
   "execution_count": 8,
   "metadata": {
    "id": "jp8mv4VDr4N9"
   },
   "outputs": [],
   "source": [
    "\n",
    "def train(model, optimizer, train_loader):\n",
    "    model.train()\n",
    "    loss_func = torch.nn.CrossEntropyLoss()\n",
    "    correct = 0\n",
    "    total_samples = 0\n",
    "    batch_loss=[]\n",
    "\n",
    "    for i, batch in tqdm(enumerate(train_loader)):\n",
    "        images, labels = batch[0].to(device), batch[1].to(device)\n",
    "        # Forward pass\n",
    "        output = model(images)\n",
    "        loss = loss_func(output, labels)\n",
    "\n",
    "        # Backward pass and optimization\n",
    "        optimizer.zero_grad()\n",
    "        loss.backward()\n",
    "        optimizer.step()\n",
    "\n",
    "        # Update metrics\n",
    "        predicted = torch.max(output.data, 1)[1]\n",
    "        correct += (predicted == labels).sum().item()\n",
    "        total_samples += labels.size(0)\n",
    "\n",
    "        batch_loss.append(loss.item())\n",
    "\n",
    "    # Calculate average loss\n",
    "    train_loss = sum(batch_loss) / len(train_loader.dataset)\n",
    "\n",
    "    acc = 100. * correct / total_samples\n",
    "    return train_loss, acc"
   ]
  },
  {
   "cell_type": "code",
   "execution_count": 9,
   "metadata": {
    "id": "QPRHfE4feJxq"
   },
   "outputs": [],
   "source": [
    "def test(model, test_loader):\n",
    "    model.eval()\n",
    "    test_losses = []\n",
    "    loss_func = torch.nn.CrossEntropyLoss()\n",
    "    correct = 0\n",
    "    total_samples = 0\n",
    "\n",
    "    with torch.no_grad():\n",
    "        for i, batch in enumerate(test_loader):\n",
    "            images, labels = batch[0].to(device), batch[1].to(device)\n",
    "\n",
    "            output = model(images)\n",
    "            loss = loss_func(output, labels)\n",
    "            test_losses.append(loss.item())\n",
    "\n",
    "            _, pred = torch.max(output, 1)\n",
    "            correct += (pred == labels).sum().item()\n",
    "            total_samples += labels.size(0)\n",
    "\n",
    "\n",
    "    # Calculate average loss\n",
    "    test_loss = sum(test_losses) / len(test_loader.dataset)\n",
    "\n",
    "    # Calculate accuracy\n",
    "    accuracy = 100. * correct / total_samples\n",
    "\n",
    "\n",
    "    return test_loss, accuracy"
   ]
  },
  {
   "cell_type": "code",
   "execution_count": 10,
   "metadata": {
    "colab": {
     "base_uri": "https://localhost:8080/",
     "height": 461
    },
    "id": "_x24LokIsA5s",
    "outputId": "577ddd97-8e0c-4ca2-8722-5f6751cbe6e3"
   },
   "outputs": [
    {
     "name": "stderr",
     "output_type": "stream",
     "text": [
      "469it [00:26, 18.00it/s]\n"
     ]
    },
    {
     "name": "stdout",
     "output_type": "stream",
     "text": [
      "Epoch - 0 Train Loss - 0.018019 Test Loss - 0.018194 Train Accuracy - 9.995000 Test Accuracy - 11.450000\n"
     ]
    },
    {
     "name": "stderr",
     "output_type": "stream",
     "text": [
      "469it [00:14, 31.87it/s]\n"
     ]
    },
    {
     "name": "stdout",
     "output_type": "stream",
     "text": [
      "Epoch - 1 Train Loss - 0.017991 Test Loss - 0.018189 Train Accuracy - 10.583333 Test Accuracy - 10.200000\n"
     ]
    },
    {
     "name": "stderr",
     "output_type": "stream",
     "text": [
      "469it [00:16, 28.85it/s]\n"
     ]
    },
    {
     "name": "stdout",
     "output_type": "stream",
     "text": [
      "Epoch - 2 Train Loss - 0.017977 Test Loss - 0.018199 Train Accuracy - 11.341667 Test Accuracy - 5.910000\n"
     ]
    },
    {
     "name": "stderr",
     "output_type": "stream",
     "text": [
      "469it [00:13, 34.42it/s]\n"
     ]
    },
    {
     "name": "stdout",
     "output_type": "stream",
     "text": [
      "Epoch - 3 Train Loss - 0.017955 Test Loss - 0.018198 Train Accuracy - 11.771667 Test Accuracy - 12.540000\n"
     ]
    },
    {
     "name": "stderr",
     "output_type": "stream",
     "text": [
      "469it [00:13, 33.94it/s]\n"
     ]
    },
    {
     "name": "stdout",
     "output_type": "stream",
     "text": [
      "Epoch - 4 Train Loss - 0.017925 Test Loss - 0.018340 Train Accuracy - 12.753333 Test Accuracy - 6.710000\n"
     ]
    },
    {
     "name": "stderr",
     "output_type": "stream",
     "text": [
      "469it [00:13, 34.14it/s]\n"
     ]
    },
    {
     "name": "stdout",
     "output_type": "stream",
     "text": [
      "Epoch - 5 Train Loss - 0.017890 Test Loss - 0.018289 Train Accuracy - 13.213333 Test Accuracy - 8.800000\n"
     ]
    },
    {
     "name": "stderr",
     "output_type": "stream",
     "text": [
      "469it [00:13, 34.48it/s]\n"
     ]
    },
    {
     "name": "stdout",
     "output_type": "stream",
     "text": [
      "Epoch - 6 Train Loss - 0.017847 Test Loss - 0.018304 Train Accuracy - 13.838333 Test Accuracy - 12.140000\n"
     ]
    },
    {
     "name": "stderr",
     "output_type": "stream",
     "text": [
      "469it [00:13, 33.89it/s]\n"
     ]
    },
    {
     "name": "stdout",
     "output_type": "stream",
     "text": [
      "Epoch - 7 Train Loss - 0.017797 Test Loss - 0.018356 Train Accuracy - 14.563333 Test Accuracy - 11.730000\n"
     ]
    },
    {
     "name": "stderr",
     "output_type": "stream",
     "text": [
      "469it [00:13, 33.92it/s]\n"
     ]
    },
    {
     "name": "stdout",
     "output_type": "stream",
     "text": [
      "Epoch - 8 Train Loss - 0.017745 Test Loss - 0.018470 Train Accuracy - 14.950000 Test Accuracy - 7.440000\n"
     ]
    },
    {
     "name": "stderr",
     "output_type": "stream",
     "text": [
      "469it [00:13, 34.61it/s]\n"
     ]
    },
    {
     "name": "stdout",
     "output_type": "stream",
     "text": [
      "Epoch - 9 Train Loss - 0.017685 Test Loss - 0.018398 Train Accuracy - 15.623333 Test Accuracy - 10.390000\n"
     ]
    },
    {
     "name": "stderr",
     "output_type": "stream",
     "text": [
      "469it [00:13, 34.45it/s]\n"
     ]
    },
    {
     "name": "stdout",
     "output_type": "stream",
     "text": [
      "Epoch - 10 Train Loss - 0.017622 Test Loss - 0.018728 Train Accuracy - 16.196667 Test Accuracy - 7.150000\n"
     ]
    },
    {
     "name": "stderr",
     "output_type": "stream",
     "text": [
      "469it [00:13, 33.95it/s]\n"
     ]
    },
    {
     "name": "stdout",
     "output_type": "stream",
     "text": [
      "Epoch - 11 Train Loss - 0.017561 Test Loss - 0.018498 Train Accuracy - 16.770000 Test Accuracy - 9.090000\n"
     ]
    },
    {
     "name": "stderr",
     "output_type": "stream",
     "text": [
      "469it [00:13, 34.46it/s]\n"
     ]
    },
    {
     "name": "stdout",
     "output_type": "stream",
     "text": [
      "Epoch - 12 Train Loss - 0.017500 Test Loss - 0.018521 Train Accuracy - 17.113333 Test Accuracy - 9.010000\n"
     ]
    },
    {
     "name": "stderr",
     "output_type": "stream",
     "text": [
      "469it [00:13, 33.85it/s]\n"
     ]
    },
    {
     "name": "stdout",
     "output_type": "stream",
     "text": [
      "Epoch - 13 Train Loss - 0.017428 Test Loss - 0.018607 Train Accuracy - 17.870000 Test Accuracy - 8.800000\n"
     ]
    },
    {
     "name": "stderr",
     "output_type": "stream",
     "text": [
      "469it [00:15, 31.15it/s]\n"
     ]
    },
    {
     "name": "stdout",
     "output_type": "stream",
     "text": [
      "Epoch - 14 Train Loss - 0.017369 Test Loss - 0.018606 Train Accuracy - 18.260000 Test Accuracy - 8.460000\n"
     ]
    },
    {
     "name": "stderr",
     "output_type": "stream",
     "text": [
      "469it [00:14, 32.74it/s]\n"
     ]
    },
    {
     "name": "stdout",
     "output_type": "stream",
     "text": [
      "Epoch - 15 Train Loss - 0.017304 Test Loss - 0.018587 Train Accuracy - 18.645000 Test Accuracy - 10.400000\n"
     ]
    },
    {
     "name": "stderr",
     "output_type": "stream",
     "text": [
      "469it [00:13, 34.25it/s]\n"
     ]
    },
    {
     "name": "stdout",
     "output_type": "stream",
     "text": [
      "Epoch - 16 Train Loss - 0.017251 Test Loss - 0.018745 Train Accuracy - 18.961667 Test Accuracy - 8.820000\n"
     ]
    },
    {
     "name": "stderr",
     "output_type": "stream",
     "text": [
      "469it [00:13, 33.96it/s]\n"
     ]
    },
    {
     "name": "stdout",
     "output_type": "stream",
     "text": [
      "Epoch - 17 Train Loss - 0.017186 Test Loss - 0.018844 Train Accuracy - 19.726667 Test Accuracy - 8.740000\n"
     ]
    },
    {
     "name": "stderr",
     "output_type": "stream",
     "text": [
      "469it [00:14, 31.86it/s]\n"
     ]
    },
    {
     "name": "stdout",
     "output_type": "stream",
     "text": [
      "Epoch - 18 Train Loss - 0.017129 Test Loss - 0.018975 Train Accuracy - 20.030000 Test Accuracy - 8.950000\n"
     ]
    },
    {
     "name": "stderr",
     "output_type": "stream",
     "text": [
      "469it [00:15, 31.17it/s]\n"
     ]
    },
    {
     "name": "stdout",
     "output_type": "stream",
     "text": [
      "Epoch - 19 Train Loss - 0.017073 Test Loss - 0.018985 Train Accuracy - 20.281667 Test Accuracy - 9.690000\n"
     ]
    },
    {
     "name": "stderr",
     "output_type": "stream",
     "text": [
      "469it [00:13, 34.57it/s]\n"
     ]
    },
    {
     "name": "stdout",
     "output_type": "stream",
     "text": [
      "Epoch - 20 Train Loss - 0.017020 Test Loss - 0.018764 Train Accuracy - 20.731667 Test Accuracy - 10.480000\n"
     ]
    },
    {
     "name": "stderr",
     "output_type": "stream",
     "text": [
      "469it [00:13, 34.62it/s]\n"
     ]
    },
    {
     "name": "stdout",
     "output_type": "stream",
     "text": [
      "Epoch - 21 Train Loss - 0.016962 Test Loss - 0.018857 Train Accuracy - 20.843333 Test Accuracy - 10.420000\n"
     ]
    },
    {
     "name": "stderr",
     "output_type": "stream",
     "text": [
      "469it [00:13, 34.30it/s]\n"
     ]
    },
    {
     "name": "stdout",
     "output_type": "stream",
     "text": [
      "Epoch - 22 Train Loss - 0.016913 Test Loss - 0.019290 Train Accuracy - 21.433333 Test Accuracy - 8.410000\n"
     ]
    },
    {
     "name": "stderr",
     "output_type": "stream",
     "text": [
      "469it [00:13, 33.92it/s]\n"
     ]
    },
    {
     "name": "stdout",
     "output_type": "stream",
     "text": [
      "Epoch - 23 Train Loss - 0.016870 Test Loss - 0.018943 Train Accuracy - 21.391667 Test Accuracy - 10.300000\n"
     ]
    },
    {
     "name": "stderr",
     "output_type": "stream",
     "text": [
      "469it [00:13, 34.11it/s]\n"
     ]
    },
    {
     "name": "stdout",
     "output_type": "stream",
     "text": [
      "Epoch - 24 Train Loss - 0.016828 Test Loss - 0.019036 Train Accuracy - 21.671667 Test Accuracy - 9.410000\n"
     ]
    },
    {
     "name": "stderr",
     "output_type": "stream",
     "text": [
      "469it [00:13, 34.05it/s]\n"
     ]
    },
    {
     "name": "stdout",
     "output_type": "stream",
     "text": [
      "Epoch - 25 Train Loss - 0.016780 Test Loss - 0.019046 Train Accuracy - 22.188333 Test Accuracy - 10.200000\n"
     ]
    },
    {
     "name": "stderr",
     "output_type": "stream",
     "text": [
      "469it [00:13, 34.05it/s]\n"
     ]
    },
    {
     "name": "stdout",
     "output_type": "stream",
     "text": [
      "Epoch - 26 Train Loss - 0.016742 Test Loss - 0.019220 Train Accuracy - 22.300000 Test Accuracy - 9.670000\n"
     ]
    },
    {
     "name": "stderr",
     "output_type": "stream",
     "text": [
      "469it [00:13, 34.14it/s]\n"
     ]
    },
    {
     "name": "stdout",
     "output_type": "stream",
     "text": [
      "Epoch - 27 Train Loss - 0.016703 Test Loss - 0.019172 Train Accuracy - 22.520000 Test Accuracy - 9.920000\n"
     ]
    },
    {
     "name": "stderr",
     "output_type": "stream",
     "text": [
      "469it [00:13, 34.07it/s]\n"
     ]
    },
    {
     "name": "stdout",
     "output_type": "stream",
     "text": [
      "Epoch - 28 Train Loss - 0.016664 Test Loss - 0.019303 Train Accuracy - 22.671667 Test Accuracy - 10.280000\n"
     ]
    },
    {
     "name": "stderr",
     "output_type": "stream",
     "text": [
      "469it [00:13, 34.68it/s]\n"
     ]
    },
    {
     "name": "stdout",
     "output_type": "stream",
     "text": [
      "Epoch - 29 Train Loss - 0.016621 Test Loss - 0.019545 Train Accuracy - 23.108333 Test Accuracy - 8.900000\n"
     ]
    },
    {
     "name": "stderr",
     "output_type": "stream",
     "text": [
      "469it [00:13, 34.72it/s]\n"
     ]
    },
    {
     "name": "stdout",
     "output_type": "stream",
     "text": [
      "Epoch - 30 Train Loss - 0.016591 Test Loss - 0.019112 Train Accuracy - 23.130000 Test Accuracy - 11.390000\n"
     ]
    },
    {
     "name": "stderr",
     "output_type": "stream",
     "text": [
      "469it [00:14, 31.47it/s]\n"
     ]
    },
    {
     "name": "stdout",
     "output_type": "stream",
     "text": [
      "Epoch - 31 Train Loss - 0.016551 Test Loss - 0.019318 Train Accuracy - 23.291667 Test Accuracy - 10.590000\n"
     ]
    },
    {
     "name": "stderr",
     "output_type": "stream",
     "text": [
      "469it [00:16, 29.06it/s]\n"
     ]
    },
    {
     "name": "stdout",
     "output_type": "stream",
     "text": [
      "Epoch - 32 Train Loss - 0.016515 Test Loss - 0.019643 Train Accuracy - 23.625000 Test Accuracy - 8.870000\n"
     ]
    },
    {
     "name": "stderr",
     "output_type": "stream",
     "text": [
      "469it [00:16, 28.70it/s]\n"
     ]
    },
    {
     "name": "stdout",
     "output_type": "stream",
     "text": [
      "Epoch - 33 Train Loss - 0.016486 Test Loss - 0.019524 Train Accuracy - 23.910000 Test Accuracy - 9.660000\n"
     ]
    },
    {
     "name": "stderr",
     "output_type": "stream",
     "text": [
      "469it [00:16, 28.84it/s]\n"
     ]
    },
    {
     "name": "stdout",
     "output_type": "stream",
     "text": [
      "Epoch - 34 Train Loss - 0.016452 Test Loss - 0.019712 Train Accuracy - 24.055000 Test Accuracy - 9.300000\n"
     ]
    },
    {
     "name": "stderr",
     "output_type": "stream",
     "text": [
      "469it [00:16, 28.72it/s]\n"
     ]
    },
    {
     "name": "stdout",
     "output_type": "stream",
     "text": [
      "Epoch - 35 Train Loss - 0.016412 Test Loss - 0.019633 Train Accuracy - 24.470000 Test Accuracy - 10.620000\n"
     ]
    },
    {
     "name": "stderr",
     "output_type": "stream",
     "text": [
      "469it [00:13, 34.39it/s]\n"
     ]
    },
    {
     "name": "stdout",
     "output_type": "stream",
     "text": [
      "Epoch - 36 Train Loss - 0.016393 Test Loss - 0.019846 Train Accuracy - 24.380000 Test Accuracy - 9.300000\n"
     ]
    },
    {
     "name": "stderr",
     "output_type": "stream",
     "text": [
      "469it [00:13, 34.12it/s]\n"
     ]
    },
    {
     "name": "stdout",
     "output_type": "stream",
     "text": [
      "Epoch - 37 Train Loss - 0.016358 Test Loss - 0.019665 Train Accuracy - 24.523333 Test Accuracy - 9.940000\n"
     ]
    },
    {
     "name": "stderr",
     "output_type": "stream",
     "text": [
      "469it [00:13, 34.06it/s]\n"
     ]
    },
    {
     "name": "stdout",
     "output_type": "stream",
     "text": [
      "Epoch - 38 Train Loss - 0.016334 Test Loss - 0.019761 Train Accuracy - 24.835000 Test Accuracy - 10.450000\n"
     ]
    },
    {
     "name": "stderr",
     "output_type": "stream",
     "text": [
      "469it [00:13, 34.15it/s]\n"
     ]
    },
    {
     "name": "stdout",
     "output_type": "stream",
     "text": [
      "Epoch - 39 Train Loss - 0.016311 Test Loss - 0.019693 Train Accuracy - 24.800000 Test Accuracy - 10.380000\n"
     ]
    },
    {
     "name": "stderr",
     "output_type": "stream",
     "text": [
      "469it [00:13, 34.11it/s]\n"
     ]
    },
    {
     "name": "stdout",
     "output_type": "stream",
     "text": [
      "Epoch - 40 Train Loss - 0.016274 Test Loss - 0.019780 Train Accuracy - 25.173333 Test Accuracy - 10.600000\n"
     ]
    },
    {
     "name": "stderr",
     "output_type": "stream",
     "text": [
      "469it [00:13, 34.53it/s]\n"
     ]
    },
    {
     "name": "stdout",
     "output_type": "stream",
     "text": [
      "Epoch - 41 Train Loss - 0.016255 Test Loss - 0.019902 Train Accuracy - 24.973333 Test Accuracy - 9.690000\n"
     ]
    },
    {
     "name": "stderr",
     "output_type": "stream",
     "text": [
      "469it [00:13, 34.24it/s]\n"
     ]
    },
    {
     "name": "stdout",
     "output_type": "stream",
     "text": [
      "Epoch - 42 Train Loss - 0.016219 Test Loss - 0.019659 Train Accuracy - 25.241667 Test Accuracy - 10.960000\n"
     ]
    },
    {
     "name": "stderr",
     "output_type": "stream",
     "text": [
      "469it [00:13, 34.10it/s]\n"
     ]
    },
    {
     "name": "stdout",
     "output_type": "stream",
     "text": [
      "Epoch - 43 Train Loss - 0.016200 Test Loss - 0.020104 Train Accuracy - 25.593333 Test Accuracy - 9.660000\n"
     ]
    },
    {
     "name": "stderr",
     "output_type": "stream",
     "text": [
      "469it [00:13, 34.20it/s]\n"
     ]
    },
    {
     "name": "stdout",
     "output_type": "stream",
     "text": [
      "Epoch - 44 Train Loss - 0.016171 Test Loss - 0.019684 Train Accuracy - 25.680000 Test Accuracy - 11.530000\n"
     ]
    },
    {
     "name": "stderr",
     "output_type": "stream",
     "text": [
      "469it [00:13, 34.12it/s]\n"
     ]
    },
    {
     "name": "stdout",
     "output_type": "stream",
     "text": [
      "Epoch - 45 Train Loss - 0.016149 Test Loss - 0.019834 Train Accuracy - 25.693333 Test Accuracy - 10.500000\n"
     ]
    },
    {
     "name": "stderr",
     "output_type": "stream",
     "text": [
      "469it [00:13, 34.08it/s]\n"
     ]
    },
    {
     "name": "stdout",
     "output_type": "stream",
     "text": [
      "Epoch - 46 Train Loss - 0.016142 Test Loss - 0.020177 Train Accuracy - 25.778333 Test Accuracy - 9.150000\n"
     ]
    },
    {
     "name": "stderr",
     "output_type": "stream",
     "text": [
      "469it [00:15, 29.48it/s]\n"
     ]
    },
    {
     "name": "stdout",
     "output_type": "stream",
     "text": [
      "Epoch - 47 Train Loss - 0.016108 Test Loss - 0.020028 Train Accuracy - 26.043333 Test Accuracy - 10.020000\n"
     ]
    },
    {
     "name": "stderr",
     "output_type": "stream",
     "text": [
      "469it [00:14, 33.20it/s]\n"
     ]
    },
    {
     "name": "stdout",
     "output_type": "stream",
     "text": [
      "Epoch - 48 Train Loss - 0.016081 Test Loss - 0.020118 Train Accuracy - 26.086667 Test Accuracy - 9.580000\n"
     ]
    },
    {
     "name": "stderr",
     "output_type": "stream",
     "text": [
      "469it [00:13, 34.07it/s]\n"
     ]
    },
    {
     "name": "stdout",
     "output_type": "stream",
     "text": [
      "Epoch - 49 Train Loss - 0.016061 Test Loss - 0.019998 Train Accuracy - 26.218333 Test Accuracy - 10.580000\n"
     ]
    },
    {
     "name": "stderr",
     "output_type": "stream",
     "text": [
      "469it [00:13, 34.53it/s]\n"
     ]
    },
    {
     "name": "stdout",
     "output_type": "stream",
     "text": [
      "Epoch - 50 Train Loss - 0.016047 Test Loss - 0.020141 Train Accuracy - 26.368333 Test Accuracy - 9.820000\n"
     ]
    },
    {
     "name": "stderr",
     "output_type": "stream",
     "text": [
      "469it [00:14, 31.49it/s]\n"
     ]
    },
    {
     "name": "stdout",
     "output_type": "stream",
     "text": [
      "Epoch - 51 Train Loss - 0.016015 Test Loss - 0.019982 Train Accuracy - 26.580000 Test Accuracy - 10.650000\n"
     ]
    },
    {
     "name": "stderr",
     "output_type": "stream",
     "text": [
      "469it [00:14, 32.36it/s]\n"
     ]
    },
    {
     "name": "stdout",
     "output_type": "stream",
     "text": [
      "Epoch - 52 Train Loss - 0.015994 Test Loss - 0.020132 Train Accuracy - 26.666667 Test Accuracy - 10.670000\n"
     ]
    },
    {
     "name": "stderr",
     "output_type": "stream",
     "text": [
      "469it [00:13, 34.51it/s]\n"
     ]
    },
    {
     "name": "stdout",
     "output_type": "stream",
     "text": [
      "Epoch - 53 Train Loss - 0.015968 Test Loss - 0.020511 Train Accuracy - 26.805000 Test Accuracy - 9.340000\n"
     ]
    },
    {
     "name": "stderr",
     "output_type": "stream",
     "text": [
      "469it [00:13, 33.77it/s]\n"
     ]
    },
    {
     "name": "stdout",
     "output_type": "stream",
     "text": [
      "Epoch - 54 Train Loss - 0.015964 Test Loss - 0.019798 Train Accuracy - 26.850000 Test Accuracy - 11.850000\n"
     ]
    },
    {
     "name": "stderr",
     "output_type": "stream",
     "text": [
      "469it [00:13, 33.78it/s]\n"
     ]
    },
    {
     "name": "stdout",
     "output_type": "stream",
     "text": [
      "Epoch - 55 Train Loss - 0.015936 Test Loss - 0.020159 Train Accuracy - 27.163333 Test Accuracy - 10.450000\n"
     ]
    },
    {
     "name": "stderr",
     "output_type": "stream",
     "text": [
      "469it [00:13, 34.22it/s]\n"
     ]
    },
    {
     "name": "stdout",
     "output_type": "stream",
     "text": [
      "Epoch - 56 Train Loss - 0.015911 Test Loss - 0.020144 Train Accuracy - 27.230000 Test Accuracy - 10.020000\n"
     ]
    },
    {
     "name": "stderr",
     "output_type": "stream",
     "text": [
      "469it [00:13, 34.76it/s]\n"
     ]
    },
    {
     "name": "stdout",
     "output_type": "stream",
     "text": [
      "Epoch - 57 Train Loss - 0.015896 Test Loss - 0.020494 Train Accuracy - 27.141667 Test Accuracy - 9.610000\n"
     ]
    },
    {
     "name": "stderr",
     "output_type": "stream",
     "text": [
      "469it [00:13, 34.76it/s]\n"
     ]
    },
    {
     "name": "stdout",
     "output_type": "stream",
     "text": [
      "Epoch - 58 Train Loss - 0.015876 Test Loss - 0.020316 Train Accuracy - 27.446667 Test Accuracy - 10.190000\n"
     ]
    },
    {
     "name": "stderr",
     "output_type": "stream",
     "text": [
      "469it [00:13, 34.15it/s]\n"
     ]
    },
    {
     "name": "stdout",
     "output_type": "stream",
     "text": [
      "Epoch - 59 Train Loss - 0.015858 Test Loss - 0.020291 Train Accuracy - 27.396667 Test Accuracy - 10.530000\n"
     ]
    },
    {
     "name": "stderr",
     "output_type": "stream",
     "text": [
      "469it [00:13, 34.13it/s]\n"
     ]
    },
    {
     "name": "stdout",
     "output_type": "stream",
     "text": [
      "Epoch - 60 Train Loss - 0.015844 Test Loss - 0.020112 Train Accuracy - 27.555000 Test Accuracy - 10.740000\n"
     ]
    },
    {
     "name": "stderr",
     "output_type": "stream",
     "text": [
      "469it [00:13, 34.71it/s]\n"
     ]
    },
    {
     "name": "stdout",
     "output_type": "stream",
     "text": [
      "Epoch - 61 Train Loss - 0.015826 Test Loss - 0.020250 Train Accuracy - 27.436667 Test Accuracy - 10.280000\n"
     ]
    },
    {
     "name": "stderr",
     "output_type": "stream",
     "text": [
      "469it [00:13, 34.71it/s]\n"
     ]
    },
    {
     "name": "stdout",
     "output_type": "stream",
     "text": [
      "Epoch - 62 Train Loss - 0.015807 Test Loss - 0.020367 Train Accuracy - 27.775000 Test Accuracy - 10.190000\n"
     ]
    },
    {
     "name": "stderr",
     "output_type": "stream",
     "text": [
      "469it [00:13, 34.59it/s]\n"
     ]
    },
    {
     "name": "stdout",
     "output_type": "stream",
     "text": [
      "Epoch - 63 Train Loss - 0.015788 Test Loss - 0.020407 Train Accuracy - 27.938333 Test Accuracy - 10.500000\n"
     ]
    },
    {
     "name": "stderr",
     "output_type": "stream",
     "text": [
      "469it [00:13, 34.14it/s]\n"
     ]
    },
    {
     "name": "stdout",
     "output_type": "stream",
     "text": [
      "Epoch - 64 Train Loss - 0.015761 Test Loss - 0.020648 Train Accuracy - 27.990000 Test Accuracy - 9.860000\n"
     ]
    },
    {
     "name": "stderr",
     "output_type": "stream",
     "text": [
      "469it [00:13, 34.35it/s]\n"
     ]
    },
    {
     "name": "stdout",
     "output_type": "stream",
     "text": [
      "Epoch - 65 Train Loss - 0.015750 Test Loss - 0.020132 Train Accuracy - 27.986667 Test Accuracy - 11.400000\n"
     ]
    },
    {
     "name": "stderr",
     "output_type": "stream",
     "text": [
      "469it [00:13, 34.85it/s]\n"
     ]
    },
    {
     "name": "stdout",
     "output_type": "stream",
     "text": [
      "Epoch - 66 Train Loss - 0.015732 Test Loss - 0.020345 Train Accuracy - 28.221667 Test Accuracy - 10.810000\n"
     ]
    },
    {
     "name": "stderr",
     "output_type": "stream",
     "text": [
      "469it [00:15, 31.05it/s]\n"
     ]
    },
    {
     "name": "stdout",
     "output_type": "stream",
     "text": [
      "Epoch - 67 Train Loss - 0.015713 Test Loss - 0.020280 Train Accuracy - 28.206667 Test Accuracy - 10.660000\n"
     ]
    },
    {
     "name": "stderr",
     "output_type": "stream",
     "text": [
      "469it [00:14, 33.24it/s]\n"
     ]
    },
    {
     "name": "stdout",
     "output_type": "stream",
     "text": [
      "Epoch - 68 Train Loss - 0.015698 Test Loss - 0.020584 Train Accuracy - 28.423333 Test Accuracy - 9.800000\n"
     ]
    },
    {
     "name": "stderr",
     "output_type": "stream",
     "text": [
      "469it [00:13, 34.53it/s]\n"
     ]
    },
    {
     "name": "stdout",
     "output_type": "stream",
     "text": [
      "Epoch - 69 Train Loss - 0.015678 Test Loss - 0.020672 Train Accuracy - 28.620000 Test Accuracy - 9.630000\n"
     ]
    },
    {
     "name": "stderr",
     "output_type": "stream",
     "text": [
      "469it [00:13, 35.12it/s]\n"
     ]
    },
    {
     "name": "stdout",
     "output_type": "stream",
     "text": [
      "Epoch - 70 Train Loss - 0.015671 Test Loss - 0.020695 Train Accuracy - 28.416667 Test Accuracy - 9.510000\n"
     ]
    },
    {
     "name": "stderr",
     "output_type": "stream",
     "text": [
      "469it [00:13, 34.73it/s]\n"
     ]
    },
    {
     "name": "stdout",
     "output_type": "stream",
     "text": [
      "Epoch - 71 Train Loss - 0.015657 Test Loss - 0.020648 Train Accuracy - 28.571667 Test Accuracy - 10.200000\n"
     ]
    },
    {
     "name": "stderr",
     "output_type": "stream",
     "text": [
      "469it [00:13, 35.06it/s]\n"
     ]
    },
    {
     "name": "stdout",
     "output_type": "stream",
     "text": [
      "Epoch - 72 Train Loss - 0.015640 Test Loss - 0.020968 Train Accuracy - 28.766667 Test Accuracy - 9.230000\n"
     ]
    },
    {
     "name": "stderr",
     "output_type": "stream",
     "text": [
      "469it [00:13, 34.91it/s]\n"
     ]
    },
    {
     "name": "stdout",
     "output_type": "stream",
     "text": [
      "Epoch - 73 Train Loss - 0.015615 Test Loss - 0.020596 Train Accuracy - 28.675000 Test Accuracy - 10.280000\n"
     ]
    },
    {
     "name": "stderr",
     "output_type": "stream",
     "text": [
      "469it [00:13, 34.37it/s]\n"
     ]
    },
    {
     "name": "stdout",
     "output_type": "stream",
     "text": [
      "Epoch - 74 Train Loss - 0.015600 Test Loss - 0.020969 Train Accuracy - 28.981667 Test Accuracy - 9.860000\n"
     ]
    },
    {
     "name": "stderr",
     "output_type": "stream",
     "text": [
      "469it [00:15, 30.32it/s]\n"
     ]
    },
    {
     "name": "stdout",
     "output_type": "stream",
     "text": [
      "Epoch - 75 Train Loss - 0.015583 Test Loss - 0.020773 Train Accuracy - 28.968333 Test Accuracy - 9.710000\n"
     ]
    },
    {
     "name": "stderr",
     "output_type": "stream",
     "text": [
      "469it [00:13, 34.81it/s]\n"
     ]
    },
    {
     "name": "stdout",
     "output_type": "stream",
     "text": [
      "Epoch - 76 Train Loss - 0.015565 Test Loss - 0.020804 Train Accuracy - 29.046667 Test Accuracy - 10.200000\n"
     ]
    },
    {
     "name": "stderr",
     "output_type": "stream",
     "text": [
      "469it [00:13, 35.03it/s]\n"
     ]
    },
    {
     "name": "stdout",
     "output_type": "stream",
     "text": [
      "Epoch - 77 Train Loss - 0.015557 Test Loss - 0.020622 Train Accuracy - 29.133333 Test Accuracy - 10.960000\n"
     ]
    },
    {
     "name": "stderr",
     "output_type": "stream",
     "text": [
      "469it [00:13, 34.98it/s]\n"
     ]
    },
    {
     "name": "stdout",
     "output_type": "stream",
     "text": [
      "Epoch - 78 Train Loss - 0.015548 Test Loss - 0.020327 Train Accuracy - 29.161667 Test Accuracy - 11.380000\n"
     ]
    },
    {
     "name": "stderr",
     "output_type": "stream",
     "text": [
      "469it [00:13, 34.38it/s]\n"
     ]
    },
    {
     "name": "stdout",
     "output_type": "stream",
     "text": [
      "Epoch - 79 Train Loss - 0.015526 Test Loss - 0.021113 Train Accuracy - 29.371667 Test Accuracy - 9.210000\n"
     ]
    },
    {
     "name": "stderr",
     "output_type": "stream",
     "text": [
      "469it [00:13, 34.73it/s]\n"
     ]
    },
    {
     "name": "stdout",
     "output_type": "stream",
     "text": [
      "Epoch - 80 Train Loss - 0.015510 Test Loss - 0.020750 Train Accuracy - 29.266667 Test Accuracy - 10.750000\n"
     ]
    },
    {
     "name": "stderr",
     "output_type": "stream",
     "text": [
      "469it [00:13, 34.45it/s]\n"
     ]
    },
    {
     "name": "stdout",
     "output_type": "stream",
     "text": [
      "Epoch - 81 Train Loss - 0.015502 Test Loss - 0.020734 Train Accuracy - 29.258333 Test Accuracy - 10.410000\n"
     ]
    },
    {
     "name": "stderr",
     "output_type": "stream",
     "text": [
      "469it [00:13, 34.39it/s]\n"
     ]
    },
    {
     "name": "stdout",
     "output_type": "stream",
     "text": [
      "Epoch - 82 Train Loss - 0.015487 Test Loss - 0.020409 Train Accuracy - 29.586667 Test Accuracy - 11.500000\n"
     ]
    },
    {
     "name": "stderr",
     "output_type": "stream",
     "text": [
      "469it [00:13, 34.57it/s]\n"
     ]
    },
    {
     "name": "stdout",
     "output_type": "stream",
     "text": [
      "Epoch - 83 Train Loss - 0.015470 Test Loss - 0.020974 Train Accuracy - 29.688333 Test Accuracy - 9.680000\n"
     ]
    },
    {
     "name": "stderr",
     "output_type": "stream",
     "text": [
      "469it [00:13, 34.47it/s]\n"
     ]
    },
    {
     "name": "stdout",
     "output_type": "stream",
     "text": [
      "Epoch - 84 Train Loss - 0.015456 Test Loss - 0.020265 Train Accuracy - 29.665000 Test Accuracy - 11.780000\n"
     ]
    },
    {
     "name": "stderr",
     "output_type": "stream",
     "text": [
      "469it [00:13, 34.91it/s]\n"
     ]
    },
    {
     "name": "stdout",
     "output_type": "stream",
     "text": [
      "Epoch - 85 Train Loss - 0.015447 Test Loss - 0.021030 Train Accuracy - 29.616667 Test Accuracy - 10.140000\n"
     ]
    },
    {
     "name": "stderr",
     "output_type": "stream",
     "text": [
      "469it [00:13, 35.22it/s]\n"
     ]
    },
    {
     "name": "stdout",
     "output_type": "stream",
     "text": [
      "Epoch - 86 Train Loss - 0.015431 Test Loss - 0.021331 Train Accuracy - 29.721667 Test Accuracy - 8.790000\n"
     ]
    },
    {
     "name": "stderr",
     "output_type": "stream",
     "text": [
      "469it [00:15, 30.50it/s]\n"
     ]
    },
    {
     "name": "stdout",
     "output_type": "stream",
     "text": [
      "Epoch - 87 Train Loss - 0.015419 Test Loss - 0.020840 Train Accuracy - 29.813333 Test Accuracy - 10.490000\n"
     ]
    },
    {
     "name": "stderr",
     "output_type": "stream",
     "text": [
      "469it [00:16, 29.26it/s]\n"
     ]
    },
    {
     "name": "stdout",
     "output_type": "stream",
     "text": [
      "Epoch - 88 Train Loss - 0.015404 Test Loss - 0.021157 Train Accuracy - 29.900000 Test Accuracy - 9.580000\n"
     ]
    },
    {
     "name": "stderr",
     "output_type": "stream",
     "text": [
      "469it [00:15, 30.00it/s]\n"
     ]
    },
    {
     "name": "stdout",
     "output_type": "stream",
     "text": [
      "Epoch - 89 Train Loss - 0.015394 Test Loss - 0.021339 Train Accuracy - 29.868333 Test Accuracy - 8.960000\n"
     ]
    },
    {
     "name": "stderr",
     "output_type": "stream",
     "text": [
      "469it [00:13, 34.96it/s]\n"
     ]
    },
    {
     "name": "stdout",
     "output_type": "stream",
     "text": [
      "Epoch - 90 Train Loss - 0.015379 Test Loss - 0.021060 Train Accuracy - 30.101667 Test Accuracy - 10.010000\n"
     ]
    },
    {
     "name": "stderr",
     "output_type": "stream",
     "text": [
      "469it [00:13, 34.82it/s]\n"
     ]
    },
    {
     "name": "stdout",
     "output_type": "stream",
     "text": [
      "Epoch - 91 Train Loss - 0.015361 Test Loss - 0.020880 Train Accuracy - 30.075000 Test Accuracy - 10.650000\n"
     ]
    },
    {
     "name": "stderr",
     "output_type": "stream",
     "text": [
      "469it [00:13, 33.98it/s]\n"
     ]
    },
    {
     "name": "stdout",
     "output_type": "stream",
     "text": [
      "Epoch - 92 Train Loss - 0.015353 Test Loss - 0.021156 Train Accuracy - 30.258333 Test Accuracy - 9.750000\n"
     ]
    },
    {
     "name": "stderr",
     "output_type": "stream",
     "text": [
      "469it [00:13, 34.75it/s]\n"
     ]
    },
    {
     "name": "stdout",
     "output_type": "stream",
     "text": [
      "Epoch - 93 Train Loss - 0.015342 Test Loss - 0.020956 Train Accuracy - 30.405000 Test Accuracy - 10.110000\n"
     ]
    },
    {
     "name": "stderr",
     "output_type": "stream",
     "text": [
      "469it [00:13, 34.86it/s]\n"
     ]
    },
    {
     "name": "stdout",
     "output_type": "stream",
     "text": [
      "Epoch - 94 Train Loss - 0.015326 Test Loss - 0.020858 Train Accuracy - 30.200000 Test Accuracy - 10.690000\n"
     ]
    },
    {
     "name": "stderr",
     "output_type": "stream",
     "text": [
      "469it [00:13, 34.47it/s]\n"
     ]
    },
    {
     "name": "stdout",
     "output_type": "stream",
     "text": [
      "Epoch - 95 Train Loss - 0.015317 Test Loss - 0.021306 Train Accuracy - 30.576667 Test Accuracy - 9.170000\n"
     ]
    },
    {
     "name": "stderr",
     "output_type": "stream",
     "text": [
      "469it [00:13, 34.59it/s]\n"
     ]
    },
    {
     "name": "stdout",
     "output_type": "stream",
     "text": [
      "Epoch - 96 Train Loss - 0.015301 Test Loss - 0.020916 Train Accuracy - 30.413333 Test Accuracy - 10.680000\n"
     ]
    },
    {
     "name": "stderr",
     "output_type": "stream",
     "text": [
      "469it [00:13, 34.89it/s]\n"
     ]
    },
    {
     "name": "stdout",
     "output_type": "stream",
     "text": [
      "Epoch - 97 Train Loss - 0.015284 Test Loss - 0.021239 Train Accuracy - 30.505000 Test Accuracy - 9.610000\n"
     ]
    },
    {
     "name": "stderr",
     "output_type": "stream",
     "text": [
      "469it [00:13, 34.59it/s]\n"
     ]
    },
    {
     "name": "stdout",
     "output_type": "stream",
     "text": [
      "Epoch - 98 Train Loss - 0.015277 Test Loss - 0.021080 Train Accuracy - 30.546667 Test Accuracy - 10.100000\n"
     ]
    },
    {
     "name": "stderr",
     "output_type": "stream",
     "text": [
      "469it [00:13, 34.65it/s]\n"
     ]
    },
    {
     "name": "stdout",
     "output_type": "stream",
     "text": [
      "Epoch - 99 Train Loss - 0.015257 Test Loss - 0.021084 Train Accuracy - 30.671667 Test Accuracy - 9.840000\n"
     ]
    }
   ],
   "source": [
    "epochs = 100\n",
    "model = Model().to(device)\n",
    "optimizer1 = optim.Adam(model.parameters(), lr=1e-4)\n",
    "\n",
    "train_loss_arr = []\n",
    "test_loss_arr = []\n",
    "\n",
    "for epoch in range(epochs):\n",
    "    train_loss, train_acc = train(model, optimizer1, training_DataLoader)\n",
    "    test_loss, test_acc = test(model, testing_DataLoader)\n",
    "\n",
    "    print(f'Epoch - {epoch} Train Loss - {train_loss:.6f} Test Loss - {test_loss:.6f} Train Accuracy - {train_acc:.6f} Test Accuracy - {test_acc:.6f}')\n",
    "\n",
    "    train_loss_arr.append(train_loss)\n",
    "    test_loss_arr.append(test_loss)\n"
   ]
  },
  {
   "cell_type": "code",
   "execution_count": 11,
   "metadata": {
    "colab": {
     "base_uri": "https://localhost:8080/",
     "height": 487
    },
    "id": "OQcK2RgEsJ4z",
    "outputId": "ffc4d049-6205-4917-c2d6-fa7c586c2d8a"
   },
   "outputs": [
    {
     "data": {
      "image/png": "[encoded data removed]",
      "text/plain": [
       "<Figure size 1000x500 with 1 Axes>"
      ]
     },
     "metadata": {},
     "output_type": "display_data"
    }
   ],
   "source": [
    "# Visualize Loss\n",
    "plt.figure(figsize=(10, 5))\n",
    "plt.plot(train_loss_arr, label='Train Loss')\n",
    "plt.plot(test_loss_arr, label='Test Loss')\n",
    "plt.xlabel('Epochs')\n",
    "plt.ylabel('Loss')\n",
    "plt.title('Training and Testing Loss Over Epochs')\n",
    "plt.legend()\n",
    "plt.show()"
   ]
  },
  {
   "cell_type": "code",
   "execution_count": null,
   "metadata": {
    "colab": {
     "base_uri": "https://localhost:8080/"
    },
    "id": "cPENbhSBlHBB",
    "outputId": "a868f1f0-733f-4611-a49e-b5fe3784ff2c"
   },
   "outputs": [
    {
     "data": {
      "text/plain": [
       "[0.01801906446615855,\n",
       " 0.017999398493766784,\n",
       " 0.017990918040275573,\n",
       " 0.017983108615875244,\n",
       " 0.01797765740553538,\n",
       " 0.01796959365606308,\n",
       " 0.017963631089528403,\n",
       " 0.01795589842001597,\n",
       " 0.017949538759390513,\n",
       " 0.017942552200953164]"
      ]
     },
     "execution_count": 19,
     "metadata": {},
     "output_type": "execute_result"
    }
   ],
   "source": [
    "train_loss_arr"
   ]
  },
  {
   "cell_type": "code",
   "execution_count": null,
   "metadata": {
    "colab": {
     "base_uri": "https://localhost:8080/"
    },
    "id": "jFS4rUhDsS11",
    "outputId": "8a28e16c-456b-4b92-d6c5-81387b0fa6ef"
   },
   "outputs": [
    {
     "data": {
      "text/plain": [
       "[0.01817552626132965,\n",
       " 0.01818337230682373,\n",
       " 0.018212887620925905,\n",
       " 0.018220176076889038,\n",
       " 0.018190062308311463,\n",
       " 0.018204889607429504,\n",
       " 0.018178352522850036,\n",
       " 0.01820624873638153,\n",
       " 0.01823055875301361,\n",
       " 0.018217967104911803]"
      ]
     },
     "execution_count": 20,
     "metadata": {},
     "output_type": "execute_result"
    }
   ],
   "source": [
    "test_loss_arr"
   ]
  },
  {
   "cell_type": "code",
   "execution_count": null,
   "metadata": {
    "id": "MyALaFMjsYoJ"
   },
   "outputs": [],
   "source": []
  }
 ],
 "metadata": {
  "accelerator": "GPU",
  "colab": {
   "gpuType": "T4",
   "provenance": []
  },
  "kernelspec": {
   "display_name": "Python 3 (ipykernel)",
   "language": "python",
   "name": "python3"
  },
  "language_info": {
   "codemirror_mode": {
    "name": "ipython",
    "version": 3
   },
   "file_extension": ".py",
   "mimetype": "text/x-python",
   "name": "python",
   "nbconvert_exporter": "python",
   "pygments_lexer": "ipython3",
   "version": "3.9.13"
  }
 },
 "nbformat": 4,
 "nbformat_minor": 4
}
